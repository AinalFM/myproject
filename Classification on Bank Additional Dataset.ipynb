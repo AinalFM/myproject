{
 "cells": [
  {
   "cell_type": "markdown",
   "id": "1c1c42a9",
   "metadata": {},
   "source": [
    "# Classification"
   ]
  },
  {
   "cell_type": "markdown",
   "id": "6137cc8e",
   "metadata": {},
   "source": [
    "# 1.Import Library"
   ]
  },
  {
   "cell_type": "code",
   "execution_count": 311,
   "id": "e96c7f00",
   "metadata": {},
   "outputs": [],
   "source": [
    "import numpy as np\n",
    "import pandas as pd\n",
    "import matplotlib.pyplot as plt\n",
    "from sklearn.preprocessing import StandardScaler\n",
    "\n",
    "%matplotlib inline"
   ]
  },
  {
   "cell_type": "markdown",
   "id": "e9a2cb4f",
   "metadata": {},
   "source": [
    "# 2. Loading and Review Data"
   ]
  },
  {
   "cell_type": "code",
   "execution_count": 312,
   "id": "3715c384",
   "metadata": {
    "scrolled": true
   },
   "outputs": [
    {
     "data": {
      "text/html": [
       "<div>\n",
       "<style scoped>\n",
       "    .dataframe tbody tr th:only-of-type {\n",
       "        vertical-align: middle;\n",
       "    }\n",
       "\n",
       "    .dataframe tbody tr th {\n",
       "        vertical-align: top;\n",
       "    }\n",
       "\n",
       "    .dataframe thead th {\n",
       "        text-align: right;\n",
       "    }\n",
       "</style>\n",
       "<table border=\"1\" class=\"dataframe\">\n",
       "  <thead>\n",
       "    <tr style=\"text-align: right;\">\n",
       "      <th></th>\n",
       "      <th>age</th>\n",
       "      <th>job</th>\n",
       "      <th>marital</th>\n",
       "      <th>education</th>\n",
       "      <th>default</th>\n",
       "      <th>housing</th>\n",
       "      <th>loan</th>\n",
       "      <th>contact</th>\n",
       "      <th>month</th>\n",
       "      <th>day_of_week</th>\n",
       "      <th>...</th>\n",
       "      <th>campaign</th>\n",
       "      <th>pdays</th>\n",
       "      <th>previous</th>\n",
       "      <th>poutcome</th>\n",
       "      <th>emp.var.rate</th>\n",
       "      <th>cons.price.idx</th>\n",
       "      <th>cons.conf.idx</th>\n",
       "      <th>euribor3m</th>\n",
       "      <th>nr.employed</th>\n",
       "      <th>y</th>\n",
       "    </tr>\n",
       "  </thead>\n",
       "  <tbody>\n",
       "    <tr>\n",
       "      <th>0</th>\n",
       "      <td>30</td>\n",
       "      <td>blue-collar</td>\n",
       "      <td>married</td>\n",
       "      <td>basic.9y</td>\n",
       "      <td>no</td>\n",
       "      <td>yes</td>\n",
       "      <td>no</td>\n",
       "      <td>cellular</td>\n",
       "      <td>may</td>\n",
       "      <td>fri</td>\n",
       "      <td>...</td>\n",
       "      <td>2</td>\n",
       "      <td>999</td>\n",
       "      <td>0</td>\n",
       "      <td>nonexistent</td>\n",
       "      <td>-1.8</td>\n",
       "      <td>92.893</td>\n",
       "      <td>-46.2</td>\n",
       "      <td>1.313</td>\n",
       "      <td>5099.1</td>\n",
       "      <td>no</td>\n",
       "    </tr>\n",
       "    <tr>\n",
       "      <th>1</th>\n",
       "      <td>39</td>\n",
       "      <td>services</td>\n",
       "      <td>single</td>\n",
       "      <td>high.school</td>\n",
       "      <td>no</td>\n",
       "      <td>no</td>\n",
       "      <td>no</td>\n",
       "      <td>telephone</td>\n",
       "      <td>may</td>\n",
       "      <td>fri</td>\n",
       "      <td>...</td>\n",
       "      <td>4</td>\n",
       "      <td>999</td>\n",
       "      <td>0</td>\n",
       "      <td>nonexistent</td>\n",
       "      <td>1.1</td>\n",
       "      <td>93.994</td>\n",
       "      <td>-36.4</td>\n",
       "      <td>4.855</td>\n",
       "      <td>5191.0</td>\n",
       "      <td>no</td>\n",
       "    </tr>\n",
       "    <tr>\n",
       "      <th>2</th>\n",
       "      <td>25</td>\n",
       "      <td>services</td>\n",
       "      <td>married</td>\n",
       "      <td>high.school</td>\n",
       "      <td>no</td>\n",
       "      <td>yes</td>\n",
       "      <td>no</td>\n",
       "      <td>telephone</td>\n",
       "      <td>jun</td>\n",
       "      <td>wed</td>\n",
       "      <td>...</td>\n",
       "      <td>1</td>\n",
       "      <td>999</td>\n",
       "      <td>0</td>\n",
       "      <td>nonexistent</td>\n",
       "      <td>1.4</td>\n",
       "      <td>94.465</td>\n",
       "      <td>-41.8</td>\n",
       "      <td>4.962</td>\n",
       "      <td>5228.1</td>\n",
       "      <td>no</td>\n",
       "    </tr>\n",
       "    <tr>\n",
       "      <th>3</th>\n",
       "      <td>38</td>\n",
       "      <td>services</td>\n",
       "      <td>married</td>\n",
       "      <td>basic.9y</td>\n",
       "      <td>no</td>\n",
       "      <td>unknown</td>\n",
       "      <td>unknown</td>\n",
       "      <td>telephone</td>\n",
       "      <td>jun</td>\n",
       "      <td>fri</td>\n",
       "      <td>...</td>\n",
       "      <td>3</td>\n",
       "      <td>999</td>\n",
       "      <td>0</td>\n",
       "      <td>nonexistent</td>\n",
       "      <td>1.4</td>\n",
       "      <td>94.465</td>\n",
       "      <td>-41.8</td>\n",
       "      <td>4.959</td>\n",
       "      <td>5228.1</td>\n",
       "      <td>no</td>\n",
       "    </tr>\n",
       "    <tr>\n",
       "      <th>4</th>\n",
       "      <td>47</td>\n",
       "      <td>admin.</td>\n",
       "      <td>married</td>\n",
       "      <td>university.degree</td>\n",
       "      <td>no</td>\n",
       "      <td>yes</td>\n",
       "      <td>no</td>\n",
       "      <td>cellular</td>\n",
       "      <td>nov</td>\n",
       "      <td>mon</td>\n",
       "      <td>...</td>\n",
       "      <td>1</td>\n",
       "      <td>999</td>\n",
       "      <td>0</td>\n",
       "      <td>nonexistent</td>\n",
       "      <td>-0.1</td>\n",
       "      <td>93.200</td>\n",
       "      <td>-42.0</td>\n",
       "      <td>4.191</td>\n",
       "      <td>5195.8</td>\n",
       "      <td>no</td>\n",
       "    </tr>\n",
       "  </tbody>\n",
       "</table>\n",
       "<p>5 rows × 21 columns</p>\n",
       "</div>"
      ],
      "text/plain": [
       "   age          job  marital          education default  housing     loan  \\\n",
       "0   30  blue-collar  married           basic.9y      no      yes       no   \n",
       "1   39     services   single        high.school      no       no       no   \n",
       "2   25     services  married        high.school      no      yes       no   \n",
       "3   38     services  married           basic.9y      no  unknown  unknown   \n",
       "4   47       admin.  married  university.degree      no      yes       no   \n",
       "\n",
       "     contact month day_of_week  ...  campaign  pdays  previous     poutcome  \\\n",
       "0   cellular   may         fri  ...         2    999         0  nonexistent   \n",
       "1  telephone   may         fri  ...         4    999         0  nonexistent   \n",
       "2  telephone   jun         wed  ...         1    999         0  nonexistent   \n",
       "3  telephone   jun         fri  ...         3    999         0  nonexistent   \n",
       "4   cellular   nov         mon  ...         1    999         0  nonexistent   \n",
       "\n",
       "  emp.var.rate  cons.price.idx  cons.conf.idx  euribor3m  nr.employed   y  \n",
       "0         -1.8          92.893          -46.2      1.313       5099.1  no  \n",
       "1          1.1          93.994          -36.4      4.855       5191.0  no  \n",
       "2          1.4          94.465          -41.8      4.962       5228.1  no  \n",
       "3          1.4          94.465          -41.8      4.959       5228.1  no  \n",
       "4         -0.1          93.200          -42.0      4.191       5195.8  no  \n",
       "\n",
       "[5 rows x 21 columns]"
      ]
     },
     "execution_count": 312,
     "metadata": {},
     "output_type": "execute_result"
    }
   ],
   "source": [
    "data = pd.read_csv('dataset\\\\bank-additional\\\\bank-additional\\\\bank-additional.csv')\n",
    "data.head()"
   ]
  },
  {
   "cell_type": "code",
   "execution_count": 313,
   "id": "6ae8c42d",
   "metadata": {},
   "outputs": [
    {
     "data": {
      "text/plain": [
       "no     3668\n",
       "yes     451\n",
       "Name: y, dtype: int64"
      ]
     },
     "execution_count": 313,
     "metadata": {},
     "output_type": "execute_result"
    }
   ],
   "source": [
    "data['y'].value_counts()"
   ]
  },
  {
   "cell_type": "code",
   "execution_count": 314,
   "id": "56067a98",
   "metadata": {},
   "outputs": [
    {
     "data": {
      "text/plain": [
       "(4119, 21)"
      ]
     },
     "execution_count": 314,
     "metadata": {},
     "output_type": "execute_result"
    }
   ],
   "source": [
    "data.shape"
   ]
  },
  {
   "cell_type": "code",
   "execution_count": 315,
   "id": "98737914",
   "metadata": {},
   "outputs": [
    {
     "name": "stdout",
     "output_type": "stream",
     "text": [
      "<class 'pandas.core.frame.DataFrame'>\n",
      "RangeIndex: 4119 entries, 0 to 4118\n",
      "Data columns (total 21 columns):\n",
      " #   Column          Non-Null Count  Dtype  \n",
      "---  ------          --------------  -----  \n",
      " 0   age             4119 non-null   int64  \n",
      " 1   job             4119 non-null   object \n",
      " 2   marital         4119 non-null   object \n",
      " 3   education       4119 non-null   object \n",
      " 4   default         4119 non-null   object \n",
      " 5   housing         4119 non-null   object \n",
      " 6   loan            4119 non-null   object \n",
      " 7   contact         4119 non-null   object \n",
      " 8   month           4119 non-null   object \n",
      " 9   day_of_week     4119 non-null   object \n",
      " 10  duration        4119 non-null   int64  \n",
      " 11  campaign        4119 non-null   int64  \n",
      " 12  pdays           4119 non-null   int64  \n",
      " 13  previous        4119 non-null   int64  \n",
      " 14  poutcome        4119 non-null   object \n",
      " 15  emp.var.rate    4119 non-null   float64\n",
      " 16  cons.price.idx  4119 non-null   float64\n",
      " 17  cons.conf.idx   4119 non-null   float64\n",
      " 18  euribor3m       4119 non-null   float64\n",
      " 19  nr.employed     4119 non-null   float64\n",
      " 20  y               4119 non-null   object \n",
      "dtypes: float64(5), int64(5), object(11)\n",
      "memory usage: 675.9+ KB\n"
     ]
    }
   ],
   "source": [
    "data.info()"
   ]
  },
  {
   "cell_type": "code",
   "execution_count": 316,
   "id": "d4f668e1",
   "metadata": {},
   "outputs": [
    {
     "data": {
      "text/plain": [
       "False"
      ]
     },
     "execution_count": 316,
     "metadata": {},
     "output_type": "execute_result"
    }
   ],
   "source": [
    "data.isnull().sum().any()"
   ]
  },
  {
   "cell_type": "markdown",
   "id": "e3282f91",
   "metadata": {},
   "source": [
    "Sebelum melakukan pemodelan pada dataset, dipastikan terlebih dahulu bahwa dataset yang digunakan bersih (tidak ada nilai null). Berdasarkan sintaks diatas, dataset yang diperoleh sudah bersih dan siap untuk diolah."
   ]
  },
  {
   "cell_type": "code",
   "execution_count": 317,
   "id": "bf3a96ca",
   "metadata": {},
   "outputs": [
    {
     "data": {
      "image/png": "[encoded data removed]",
      "text/plain": [
       "<Figure size 792x792 with 1 Axes>"
      ]
     },
     "metadata": {
      "needs_background": "light"
     },
     "output_type": "display_data"
    }
   ],
   "source": [
    "# proses pemilihan atribut yang sekiranya penting\n",
    "# dan menghapus atribut yang tidak memiliki korelasi sama sekali\n",
    "\n",
    "def plot_corr(data, size=11):\n",
    "    corr = data.corr()\n",
    "    fig, ax = plt.subplots(figsize=(size,size))\n",
    "    ax.matshow(corr)\n",
    "    plt.xticks(range(len(corr.columns)), corr.columns)\n",
    "    plt.yticks(range(len(corr.columns)), corr.columns)\n",
    "    \n",
    "plot_corr(data)"
   ]
  },
  {
   "cell_type": "code",
   "execution_count": 318,
   "id": "b47e3abe",
   "metadata": {},
   "outputs": [
    {
     "data": {
      "text/html": [
       "<div>\n",
       "<style scoped>\n",
       "    .dataframe tbody tr th:only-of-type {\n",
       "        vertical-align: middle;\n",
       "    }\n",
       "\n",
       "    .dataframe tbody tr th {\n",
       "        vertical-align: top;\n",
       "    }\n",
       "\n",
       "    .dataframe thead th {\n",
       "        text-align: right;\n",
       "    }\n",
       "</style>\n",
       "<table border=\"1\" class=\"dataframe\">\n",
       "  <thead>\n",
       "    <tr style=\"text-align: right;\">\n",
       "      <th></th>\n",
       "      <th>age</th>\n",
       "      <th>duration</th>\n",
       "      <th>campaign</th>\n",
       "      <th>pdays</th>\n",
       "      <th>previous</th>\n",
       "      <th>emp.var.rate</th>\n",
       "      <th>cons.price.idx</th>\n",
       "      <th>cons.conf.idx</th>\n",
       "      <th>euribor3m</th>\n",
       "      <th>nr.employed</th>\n",
       "    </tr>\n",
       "  </thead>\n",
       "  <tbody>\n",
       "    <tr>\n",
       "      <th>age</th>\n",
       "      <td>1.000000</td>\n",
       "      <td>0.041299</td>\n",
       "      <td>-0.014169</td>\n",
       "      <td>-0.043425</td>\n",
       "      <td>0.050931</td>\n",
       "      <td>-0.019192</td>\n",
       "      <td>-0.000482</td>\n",
       "      <td>0.098135</td>\n",
       "      <td>-0.015033</td>\n",
       "      <td>-0.041936</td>\n",
       "    </tr>\n",
       "    <tr>\n",
       "      <th>duration</th>\n",
       "      <td>0.041299</td>\n",
       "      <td>1.000000</td>\n",
       "      <td>-0.085348</td>\n",
       "      <td>-0.046998</td>\n",
       "      <td>0.025724</td>\n",
       "      <td>-0.028848</td>\n",
       "      <td>0.016672</td>\n",
       "      <td>-0.034745</td>\n",
       "      <td>-0.032329</td>\n",
       "      <td>-0.044218</td>\n",
       "    </tr>\n",
       "    <tr>\n",
       "      <th>campaign</th>\n",
       "      <td>-0.014169</td>\n",
       "      <td>-0.085348</td>\n",
       "      <td>1.000000</td>\n",
       "      <td>0.058742</td>\n",
       "      <td>-0.091490</td>\n",
       "      <td>0.176079</td>\n",
       "      <td>0.145021</td>\n",
       "      <td>0.007882</td>\n",
       "      <td>0.159435</td>\n",
       "      <td>0.161037</td>\n",
       "    </tr>\n",
       "    <tr>\n",
       "      <th>pdays</th>\n",
       "      <td>-0.043425</td>\n",
       "      <td>-0.046998</td>\n",
       "      <td>0.058742</td>\n",
       "      <td>1.000000</td>\n",
       "      <td>-0.587941</td>\n",
       "      <td>0.270684</td>\n",
       "      <td>0.058472</td>\n",
       "      <td>-0.092090</td>\n",
       "      <td>0.301478</td>\n",
       "      <td>0.381983</td>\n",
       "    </tr>\n",
       "    <tr>\n",
       "      <th>previous</th>\n",
       "      <td>0.050931</td>\n",
       "      <td>0.025724</td>\n",
       "      <td>-0.091490</td>\n",
       "      <td>-0.587941</td>\n",
       "      <td>1.000000</td>\n",
       "      <td>-0.415238</td>\n",
       "      <td>-0.164922</td>\n",
       "      <td>-0.051420</td>\n",
       "      <td>-0.458851</td>\n",
       "      <td>-0.514853</td>\n",
       "    </tr>\n",
       "    <tr>\n",
       "      <th>emp.var.rate</th>\n",
       "      <td>-0.019192</td>\n",
       "      <td>-0.028848</td>\n",
       "      <td>0.176079</td>\n",
       "      <td>0.270684</td>\n",
       "      <td>-0.415238</td>\n",
       "      <td>1.000000</td>\n",
       "      <td>0.755155</td>\n",
       "      <td>0.195022</td>\n",
       "      <td>0.970308</td>\n",
       "      <td>0.897173</td>\n",
       "    </tr>\n",
       "    <tr>\n",
       "      <th>cons.price.idx</th>\n",
       "      <td>-0.000482</td>\n",
       "      <td>0.016672</td>\n",
       "      <td>0.145021</td>\n",
       "      <td>0.058472</td>\n",
       "      <td>-0.164922</td>\n",
       "      <td>0.755155</td>\n",
       "      <td>1.000000</td>\n",
       "      <td>0.045835</td>\n",
       "      <td>0.657159</td>\n",
       "      <td>0.472560</td>\n",
       "    </tr>\n",
       "    <tr>\n",
       "      <th>cons.conf.idx</th>\n",
       "      <td>0.098135</td>\n",
       "      <td>-0.034745</td>\n",
       "      <td>0.007882</td>\n",
       "      <td>-0.092090</td>\n",
       "      <td>-0.051420</td>\n",
       "      <td>0.195022</td>\n",
       "      <td>0.045835</td>\n",
       "      <td>1.000000</td>\n",
       "      <td>0.276595</td>\n",
       "      <td>0.107054</td>\n",
       "    </tr>\n",
       "    <tr>\n",
       "      <th>euribor3m</th>\n",
       "      <td>-0.015033</td>\n",
       "      <td>-0.032329</td>\n",
       "      <td>0.159435</td>\n",
       "      <td>0.301478</td>\n",
       "      <td>-0.458851</td>\n",
       "      <td>0.970308</td>\n",
       "      <td>0.657159</td>\n",
       "      <td>0.276595</td>\n",
       "      <td>1.000000</td>\n",
       "      <td>0.942589</td>\n",
       "    </tr>\n",
       "    <tr>\n",
       "      <th>nr.employed</th>\n",
       "      <td>-0.041936</td>\n",
       "      <td>-0.044218</td>\n",
       "      <td>0.161037</td>\n",
       "      <td>0.381983</td>\n",
       "      <td>-0.514853</td>\n",
       "      <td>0.897173</td>\n",
       "      <td>0.472560</td>\n",
       "      <td>0.107054</td>\n",
       "      <td>0.942589</td>\n",
       "      <td>1.000000</td>\n",
       "    </tr>\n",
       "  </tbody>\n",
       "</table>\n",
       "</div>"
      ],
      "text/plain": [
       "                     age  duration  campaign     pdays  previous  \\\n",
       "age             1.000000  0.041299 -0.014169 -0.043425  0.050931   \n",
       "duration        0.041299  1.000000 -0.085348 -0.046998  0.025724   \n",
       "campaign       -0.014169 -0.085348  1.000000  0.058742 -0.091490   \n",
       "pdays          -0.043425 -0.046998  0.058742  1.000000 -0.587941   \n",
       "previous        0.050931  0.025724 -0.091490 -0.587941  1.000000   \n",
       "emp.var.rate   -0.019192 -0.028848  0.176079  0.270684 -0.415238   \n",
       "cons.price.idx -0.000482  0.016672  0.145021  0.058472 -0.164922   \n",
       "cons.conf.idx   0.098135 -0.034745  0.007882 -0.092090 -0.051420   \n",
       "euribor3m      -0.015033 -0.032329  0.159435  0.301478 -0.458851   \n",
       "nr.employed    -0.041936 -0.044218  0.161037  0.381983 -0.514853   \n",
       "\n",
       "                emp.var.rate  cons.price.idx  cons.conf.idx  euribor3m  \\\n",
       "age                -0.019192       -0.000482       0.098135  -0.015033   \n",
       "duration           -0.028848        0.016672      -0.034745  -0.032329   \n",
       "campaign            0.176079        0.145021       0.007882   0.159435   \n",
       "pdays               0.270684        0.058472      -0.092090   0.301478   \n",
       "previous           -0.415238       -0.164922      -0.051420  -0.458851   \n",
       "emp.var.rate        1.000000        0.755155       0.195022   0.970308   \n",
       "cons.price.idx      0.755155        1.000000       0.045835   0.657159   \n",
       "cons.conf.idx       0.195022        0.045835       1.000000   0.276595   \n",
       "euribor3m           0.970308        0.657159       0.276595   1.000000   \n",
       "nr.employed         0.897173        0.472560       0.107054   0.942589   \n",
       "\n",
       "                nr.employed  \n",
       "age               -0.041936  \n",
       "duration          -0.044218  \n",
       "campaign           0.161037  \n",
       "pdays              0.381983  \n",
       "previous          -0.514853  \n",
       "emp.var.rate       0.897173  \n",
       "cons.price.idx     0.472560  \n",
       "cons.conf.idx      0.107054  \n",
       "euribor3m          0.942589  \n",
       "nr.employed        1.000000  "
      ]
     },
     "execution_count": 318,
     "metadata": {},
     "output_type": "execute_result"
    }
   ],
   "source": [
    "data.corr()"
   ]
  },
  {
   "cell_type": "markdown",
   "id": "a31a3c89",
   "metadata": {},
   "source": [
    "Berdasarkan proses diatas, tidak ada atribut yang dipertimbangkan untuk dihapus dikarenakan tidak terdapat redundant pada masing-masing atribut. Setiap atribut memiliki nilai korelasi yang berbeda. "
   ]
  },
  {
   "cell_type": "code",
   "execution_count": 319,
   "id": "0b3cf200",
   "metadata": {},
   "outputs": [],
   "source": [
    "# Agar tipe data seragam, maka data yang bersifat categoric\n",
    "# akan diubah menjadi bentuk numeric\n",
    "\n",
    "# 1. atribut class\n",
    "class_map = {'yes': 1, 'no': 0}\n",
    "data['y'] = data['y'].map(class_map)"
   ]
  },
  {
   "cell_type": "code",
   "execution_count": 320,
   "id": "26ca111a",
   "metadata": {},
   "outputs": [
    {
     "data": {
      "text/html": [
       "<div>\n",
       "<style scoped>\n",
       "    .dataframe tbody tr th:only-of-type {\n",
       "        vertical-align: middle;\n",
       "    }\n",
       "\n",
       "    .dataframe tbody tr th {\n",
       "        vertical-align: top;\n",
       "    }\n",
       "\n",
       "    .dataframe thead th {\n",
       "        text-align: right;\n",
       "    }\n",
       "</style>\n",
       "<table border=\"1\" class=\"dataframe\">\n",
       "  <thead>\n",
       "    <tr style=\"text-align: right;\">\n",
       "      <th></th>\n",
       "      <th>age</th>\n",
       "      <th>job</th>\n",
       "      <th>marital</th>\n",
       "      <th>education</th>\n",
       "      <th>default</th>\n",
       "      <th>housing</th>\n",
       "      <th>loan</th>\n",
       "      <th>contact</th>\n",
       "      <th>month</th>\n",
       "      <th>day_of_week</th>\n",
       "      <th>...</th>\n",
       "      <th>campaign</th>\n",
       "      <th>pdays</th>\n",
       "      <th>previous</th>\n",
       "      <th>poutcome</th>\n",
       "      <th>emp.var.rate</th>\n",
       "      <th>cons.price.idx</th>\n",
       "      <th>cons.conf.idx</th>\n",
       "      <th>euribor3m</th>\n",
       "      <th>nr.employed</th>\n",
       "      <th>y</th>\n",
       "    </tr>\n",
       "  </thead>\n",
       "  <tbody>\n",
       "    <tr>\n",
       "      <th>0</th>\n",
       "      <td>30</td>\n",
       "      <td>blue-collar</td>\n",
       "      <td>married</td>\n",
       "      <td>basic.9y</td>\n",
       "      <td>no</td>\n",
       "      <td>yes</td>\n",
       "      <td>no</td>\n",
       "      <td>cellular</td>\n",
       "      <td>may</td>\n",
       "      <td>fri</td>\n",
       "      <td>...</td>\n",
       "      <td>2</td>\n",
       "      <td>999</td>\n",
       "      <td>0</td>\n",
       "      <td>nonexistent</td>\n",
       "      <td>-1.8</td>\n",
       "      <td>92.893</td>\n",
       "      <td>-46.2</td>\n",
       "      <td>1.313</td>\n",
       "      <td>5099.1</td>\n",
       "      <td>0</td>\n",
       "    </tr>\n",
       "    <tr>\n",
       "      <th>1</th>\n",
       "      <td>39</td>\n",
       "      <td>services</td>\n",
       "      <td>single</td>\n",
       "      <td>high.school</td>\n",
       "      <td>no</td>\n",
       "      <td>no</td>\n",
       "      <td>no</td>\n",
       "      <td>telephone</td>\n",
       "      <td>may</td>\n",
       "      <td>fri</td>\n",
       "      <td>...</td>\n",
       "      <td>4</td>\n",
       "      <td>999</td>\n",
       "      <td>0</td>\n",
       "      <td>nonexistent</td>\n",
       "      <td>1.1</td>\n",
       "      <td>93.994</td>\n",
       "      <td>-36.4</td>\n",
       "      <td>4.855</td>\n",
       "      <td>5191.0</td>\n",
       "      <td>0</td>\n",
       "    </tr>\n",
       "    <tr>\n",
       "      <th>2</th>\n",
       "      <td>25</td>\n",
       "      <td>services</td>\n",
       "      <td>married</td>\n",
       "      <td>high.school</td>\n",
       "      <td>no</td>\n",
       "      <td>yes</td>\n",
       "      <td>no</td>\n",
       "      <td>telephone</td>\n",
       "      <td>jun</td>\n",
       "      <td>wed</td>\n",
       "      <td>...</td>\n",
       "      <td>1</td>\n",
       "      <td>999</td>\n",
       "      <td>0</td>\n",
       "      <td>nonexistent</td>\n",
       "      <td>1.4</td>\n",
       "      <td>94.465</td>\n",
       "      <td>-41.8</td>\n",
       "      <td>4.962</td>\n",
       "      <td>5228.1</td>\n",
       "      <td>0</td>\n",
       "    </tr>\n",
       "    <tr>\n",
       "      <th>3</th>\n",
       "      <td>38</td>\n",
       "      <td>services</td>\n",
       "      <td>married</td>\n",
       "      <td>basic.9y</td>\n",
       "      <td>no</td>\n",
       "      <td>unknown</td>\n",
       "      <td>unknown</td>\n",
       "      <td>telephone</td>\n",
       "      <td>jun</td>\n",
       "      <td>fri</td>\n",
       "      <td>...</td>\n",
       "      <td>3</td>\n",
       "      <td>999</td>\n",
       "      <td>0</td>\n",
       "      <td>nonexistent</td>\n",
       "      <td>1.4</td>\n",
       "      <td>94.465</td>\n",
       "      <td>-41.8</td>\n",
       "      <td>4.959</td>\n",
       "      <td>5228.1</td>\n",
       "      <td>0</td>\n",
       "    </tr>\n",
       "    <tr>\n",
       "      <th>4</th>\n",
       "      <td>47</td>\n",
       "      <td>admin.</td>\n",
       "      <td>married</td>\n",
       "      <td>university.degree</td>\n",
       "      <td>no</td>\n",
       "      <td>yes</td>\n",
       "      <td>no</td>\n",
       "      <td>cellular</td>\n",
       "      <td>nov</td>\n",
       "      <td>mon</td>\n",
       "      <td>...</td>\n",
       "      <td>1</td>\n",
       "      <td>999</td>\n",
       "      <td>0</td>\n",
       "      <td>nonexistent</td>\n",
       "      <td>-0.1</td>\n",
       "      <td>93.200</td>\n",
       "      <td>-42.0</td>\n",
       "      <td>4.191</td>\n",
       "      <td>5195.8</td>\n",
       "      <td>0</td>\n",
       "    </tr>\n",
       "  </tbody>\n",
       "</table>\n",
       "<p>5 rows × 21 columns</p>\n",
       "</div>"
      ],
      "text/plain": [
       "   age          job  marital          education default  housing     loan  \\\n",
       "0   30  blue-collar  married           basic.9y      no      yes       no   \n",
       "1   39     services   single        high.school      no       no       no   \n",
       "2   25     services  married        high.school      no      yes       no   \n",
       "3   38     services  married           basic.9y      no  unknown  unknown   \n",
       "4   47       admin.  married  university.degree      no      yes       no   \n",
       "\n",
       "     contact month day_of_week  ...  campaign  pdays  previous     poutcome  \\\n",
       "0   cellular   may         fri  ...         2    999         0  nonexistent   \n",
       "1  telephone   may         fri  ...         4    999         0  nonexistent   \n",
       "2  telephone   jun         wed  ...         1    999         0  nonexistent   \n",
       "3  telephone   jun         fri  ...         3    999         0  nonexistent   \n",
       "4   cellular   nov         mon  ...         1    999         0  nonexistent   \n",
       "\n",
       "  emp.var.rate  cons.price.idx  cons.conf.idx  euribor3m  nr.employed  y  \n",
       "0         -1.8          92.893          -46.2      1.313       5099.1  0  \n",
       "1          1.1          93.994          -36.4      4.855       5191.0  0  \n",
       "2          1.4          94.465          -41.8      4.962       5228.1  0  \n",
       "3          1.4          94.465          -41.8      4.959       5228.1  0  \n",
       "4         -0.1          93.200          -42.0      4.191       5195.8  0  \n",
       "\n",
       "[5 rows x 21 columns]"
      ]
     },
     "execution_count": 320,
     "metadata": {},
     "output_type": "execute_result"
    }
   ],
   "source": [
    "data.head(5)"
   ]
  },
  {
   "cell_type": "code",
   "execution_count": 321,
   "id": "993375b2",
   "metadata": {},
   "outputs": [],
   "source": [
    "# 2. atribut job\n",
    "job_map = {'admin.':1, 'blue-collar':2, 'entrepreneur':3, 'housemaid':4,\n",
    "           'management':5, 'retired':6, 'self-employed':7, 'services':8, \n",
    "           'student':9, 'technician':10, 'unemployed':11, 'unknown':12}\n",
    "data['job'] = data['job'].map(job_map)\n",
    "\n",
    "# 3. atribut marital\n",
    "marital_map = {'single':1, 'married':2, 'divorced':3, 'unknown':4}\n",
    "data['marital'] = data['marital'].map(marital_map)\n",
    "\n",
    "# 4. atribut education\n",
    "edu_map = {'basic.9y':1, 'high.school':2, 'university.degree':3, 'professional.course':4,\n",
    "           'basic.6y':5, 'basic.4y':6, 'unknown':7, 'illiterate':8}\n",
    "data['education'] = data['education'].map(edu_map)\n",
    "\n",
    "# 5. atribut default\n",
    "default_map = {'no':0, 'yes':1, 'unknown':2}\n",
    "data['default'] = data['default'].map(default_map)\n",
    "\n",
    "# 6. atribut housing\n",
    "housing_map = {'no':0, 'yes':1, 'unknown':2}\n",
    "data['housing'] = data['housing'].map(housing_map)\n",
    "\n",
    "# 7. atribut loan\n",
    "loan_map = {'no':0, 'yes':1, 'unknown':2}\n",
    "data['loan'] = data['loan'].map(loan_map)\n",
    "\n",
    "# 8. atribut contact\n",
    "contact_map = {'cellular':0, 'telephone':1}\n",
    "data['contact'] = data['contact'].map(contact_map)\n",
    "\n",
    "# 9. atribut month\n",
    "month_map = {'mar':3, 'apr':4,  'may':5, 'jun':6, 'jul':7, 'aug':8, \n",
    "           'sep':9, 'oct':10, 'nov':11, 'dec':12}\n",
    "data['month'] = data['month'].map(month_map)\n",
    "\n",
    "# 10. atribut day_of_week\n",
    "dow_map = {'mon':1, 'tue':2, 'wed':3, 'thu':4, 'fri':5}\n",
    "data['day_of_week'] = data['day_of_week'].map(dow_map)\n",
    "\n",
    "# 11. atribut poutcome\n",
    "po_map = {'failure':0, 'success':2, 'nonexistent':3}\n",
    "data['poutcome'] = data['poutcome'].map(po_map)"
   ]
  },
  {
   "cell_type": "code",
   "execution_count": 322,
   "id": "2c923dcf",
   "metadata": {},
   "outputs": [
    {
     "data": {
      "text/html": [
       "<div>\n",
       "<style scoped>\n",
       "    .dataframe tbody tr th:only-of-type {\n",
       "        vertical-align: middle;\n",
       "    }\n",
       "\n",
       "    .dataframe tbody tr th {\n",
       "        vertical-align: top;\n",
       "    }\n",
       "\n",
       "    .dataframe thead th {\n",
       "        text-align: right;\n",
       "    }\n",
       "</style>\n",
       "<table border=\"1\" class=\"dataframe\">\n",
       "  <thead>\n",
       "    <tr style=\"text-align: right;\">\n",
       "      <th></th>\n",
       "      <th>age</th>\n",
       "      <th>job</th>\n",
       "      <th>marital</th>\n",
       "      <th>education</th>\n",
       "      <th>default</th>\n",
       "      <th>housing</th>\n",
       "      <th>loan</th>\n",
       "      <th>contact</th>\n",
       "      <th>month</th>\n",
       "      <th>day_of_week</th>\n",
       "      <th>...</th>\n",
       "      <th>campaign</th>\n",
       "      <th>pdays</th>\n",
       "      <th>previous</th>\n",
       "      <th>poutcome</th>\n",
       "      <th>emp.var.rate</th>\n",
       "      <th>cons.price.idx</th>\n",
       "      <th>cons.conf.idx</th>\n",
       "      <th>euribor3m</th>\n",
       "      <th>nr.employed</th>\n",
       "      <th>y</th>\n",
       "    </tr>\n",
       "  </thead>\n",
       "  <tbody>\n",
       "    <tr>\n",
       "      <th>0</th>\n",
       "      <td>30</td>\n",
       "      <td>2</td>\n",
       "      <td>2</td>\n",
       "      <td>1</td>\n",
       "      <td>0</td>\n",
       "      <td>1</td>\n",
       "      <td>0</td>\n",
       "      <td>0</td>\n",
       "      <td>5</td>\n",
       "      <td>5</td>\n",
       "      <td>...</td>\n",
       "      <td>2</td>\n",
       "      <td>999</td>\n",
       "      <td>0</td>\n",
       "      <td>3</td>\n",
       "      <td>-1.8</td>\n",
       "      <td>92.893</td>\n",
       "      <td>-46.2</td>\n",
       "      <td>1.313</td>\n",
       "      <td>5099.1</td>\n",
       "      <td>0</td>\n",
       "    </tr>\n",
       "    <tr>\n",
       "      <th>1</th>\n",
       "      <td>39</td>\n",
       "      <td>8</td>\n",
       "      <td>1</td>\n",
       "      <td>2</td>\n",
       "      <td>0</td>\n",
       "      <td>0</td>\n",
       "      <td>0</td>\n",
       "      <td>1</td>\n",
       "      <td>5</td>\n",
       "      <td>5</td>\n",
       "      <td>...</td>\n",
       "      <td>4</td>\n",
       "      <td>999</td>\n",
       "      <td>0</td>\n",
       "      <td>3</td>\n",
       "      <td>1.1</td>\n",
       "      <td>93.994</td>\n",
       "      <td>-36.4</td>\n",
       "      <td>4.855</td>\n",
       "      <td>5191.0</td>\n",
       "      <td>0</td>\n",
       "    </tr>\n",
       "    <tr>\n",
       "      <th>2</th>\n",
       "      <td>25</td>\n",
       "      <td>8</td>\n",
       "      <td>2</td>\n",
       "      <td>2</td>\n",
       "      <td>0</td>\n",
       "      <td>1</td>\n",
       "      <td>0</td>\n",
       "      <td>1</td>\n",
       "      <td>6</td>\n",
       "      <td>3</td>\n",
       "      <td>...</td>\n",
       "      <td>1</td>\n",
       "      <td>999</td>\n",
       "      <td>0</td>\n",
       "      <td>3</td>\n",
       "      <td>1.4</td>\n",
       "      <td>94.465</td>\n",
       "      <td>-41.8</td>\n",
       "      <td>4.962</td>\n",
       "      <td>5228.1</td>\n",
       "      <td>0</td>\n",
       "    </tr>\n",
       "    <tr>\n",
       "      <th>3</th>\n",
       "      <td>38</td>\n",
       "      <td>8</td>\n",
       "      <td>2</td>\n",
       "      <td>1</td>\n",
       "      <td>0</td>\n",
       "      <td>2</td>\n",
       "      <td>2</td>\n",
       "      <td>1</td>\n",
       "      <td>6</td>\n",
       "      <td>5</td>\n",
       "      <td>...</td>\n",
       "      <td>3</td>\n",
       "      <td>999</td>\n",
       "      <td>0</td>\n",
       "      <td>3</td>\n",
       "      <td>1.4</td>\n",
       "      <td>94.465</td>\n",
       "      <td>-41.8</td>\n",
       "      <td>4.959</td>\n",
       "      <td>5228.1</td>\n",
       "      <td>0</td>\n",
       "    </tr>\n",
       "    <tr>\n",
       "      <th>4</th>\n",
       "      <td>47</td>\n",
       "      <td>1</td>\n",
       "      <td>2</td>\n",
       "      <td>3</td>\n",
       "      <td>0</td>\n",
       "      <td>1</td>\n",
       "      <td>0</td>\n",
       "      <td>0</td>\n",
       "      <td>11</td>\n",
       "      <td>1</td>\n",
       "      <td>...</td>\n",
       "      <td>1</td>\n",
       "      <td>999</td>\n",
       "      <td>0</td>\n",
       "      <td>3</td>\n",
       "      <td>-0.1</td>\n",
       "      <td>93.200</td>\n",
       "      <td>-42.0</td>\n",
       "      <td>4.191</td>\n",
       "      <td>5195.8</td>\n",
       "      <td>0</td>\n",
       "    </tr>\n",
       "  </tbody>\n",
       "</table>\n",
       "<p>5 rows × 21 columns</p>\n",
       "</div>"
      ],
      "text/plain": [
       "   age  job  marital  education  default  housing  loan  contact  month  \\\n",
       "0   30    2        2          1        0        1     0        0      5   \n",
       "1   39    8        1          2        0        0     0        1      5   \n",
       "2   25    8        2          2        0        1     0        1      6   \n",
       "3   38    8        2          1        0        2     2        1      6   \n",
       "4   47    1        2          3        0        1     0        0     11   \n",
       "\n",
       "   day_of_week  ...  campaign  pdays  previous  poutcome  emp.var.rate  \\\n",
       "0            5  ...         2    999         0         3          -1.8   \n",
       "1            5  ...         4    999         0         3           1.1   \n",
       "2            3  ...         1    999         0         3           1.4   \n",
       "3            5  ...         3    999         0         3           1.4   \n",
       "4            1  ...         1    999         0         3          -0.1   \n",
       "\n",
       "   cons.price.idx  cons.conf.idx  euribor3m  nr.employed  y  \n",
       "0          92.893          -46.2      1.313       5099.1  0  \n",
       "1          93.994          -36.4      4.855       5191.0  0  \n",
       "2          94.465          -41.8      4.962       5228.1  0  \n",
       "3          94.465          -41.8      4.959       5228.1  0  \n",
       "4          93.200          -42.0      4.191       5195.8  0  \n",
       "\n",
       "[5 rows x 21 columns]"
      ]
     },
     "execution_count": 322,
     "metadata": {},
     "output_type": "execute_result"
    }
   ],
   "source": [
    "data.head()"
   ]
  },
  {
   "cell_type": "code",
   "execution_count": 323,
   "id": "fdbf1c28",
   "metadata": {},
   "outputs": [
    {
     "data": {
      "text/plain": [
       "0"
      ]
     },
     "execution_count": 323,
     "metadata": {},
     "output_type": "execute_result"
    }
   ],
   "source": [
    "data.isnull().sum().sum()"
   ]
  },
  {
   "cell_type": "code",
   "execution_count": 324,
   "id": "aba75fad",
   "metadata": {},
   "outputs": [
    {
     "name": "stdout",
     "output_type": "stream",
     "text": [
      "<class 'pandas.core.frame.DataFrame'>\n",
      "RangeIndex: 4119 entries, 0 to 4118\n",
      "Data columns (total 21 columns):\n",
      " #   Column          Non-Null Count  Dtype  \n",
      "---  ------          --------------  -----  \n",
      " 0   age             4119 non-null   int64  \n",
      " 1   job             4119 non-null   int64  \n",
      " 2   marital         4119 non-null   int64  \n",
      " 3   education       4119 non-null   int64  \n",
      " 4   default         4119 non-null   int64  \n",
      " 5   housing         4119 non-null   int64  \n",
      " 6   loan            4119 non-null   int64  \n",
      " 7   contact         4119 non-null   int64  \n",
      " 8   month           4119 non-null   int64  \n",
      " 9   day_of_week     4119 non-null   int64  \n",
      " 10  duration        4119 non-null   int64  \n",
      " 11  campaign        4119 non-null   int64  \n",
      " 12  pdays           4119 non-null   int64  \n",
      " 13  previous        4119 non-null   int64  \n",
      " 14  poutcome        4119 non-null   int64  \n",
      " 15  emp.var.rate    4119 non-null   float64\n",
      " 16  cons.price.idx  4119 non-null   float64\n",
      " 17  cons.conf.idx   4119 non-null   float64\n",
      " 18  euribor3m       4119 non-null   float64\n",
      " 19  nr.employed     4119 non-null   float64\n",
      " 20  y               4119 non-null   int64  \n",
      "dtypes: float64(5), int64(16)\n",
      "memory usage: 675.9 KB\n"
     ]
    }
   ],
   "source": [
    "data.info()"
   ]
  },
  {
   "cell_type": "markdown",
   "id": "c95e42a7",
   "metadata": {},
   "source": [
    "Setelah diubah ke dalam bentuk tipe data yang sama, pastikan tidak ada data yang null. Dapat dilihat di atas bahwa tidak terdapat nilai null pada dataset ketika sudah diubah ke dalam bentuk tipe data numeric."
   ]
  },
  {
   "cell_type": "code",
   "execution_count": 325,
   "id": "ff8bd4ea",
   "metadata": {},
   "outputs": [
    {
     "name": "stdout",
     "output_type": "stream",
     "text": [
      "Jumlah client berlangganan term deposit: 451 (10.95%)\n",
      "Jumlah client yang tidak berlangganan term deposit: 3668 (89.05%)\n"
     ]
    }
   ],
   "source": [
    "num_obs = len(data)\n",
    "num_yes = len(data.loc[data['y'] == 1])\n",
    "num_no = len(data.loc[data['y'] == 0])\n",
    "\n",
    "print(\"Jumlah client berlangganan term deposit: {0} ({1:2.2f}%)\".format(num_yes, (num_yes/num_obs) * 100))\n",
    "print(\"Jumlah client yang tidak berlangganan term deposit: {0} ({1:2.2f}%)\".format(num_no, (num_no/num_obs) * 100))"
   ]
  },
  {
   "cell_type": "markdown",
   "id": "3d23c76d",
   "metadata": {},
   "source": [
    "# a. Logistic Regression"
   ]
  },
  {
   "cell_type": "code",
   "execution_count": 326,
   "id": "43a549b1",
   "metadata": {},
   "outputs": [],
   "source": [
    "# import library yang dibutuhkan\n",
    "from sklearn.model_selection import train_test_split\n",
    "from sklearn.linear_model import LogisticRegression\n",
    "from sklearn.metrics import classification_report, confusion_matrix"
   ]
  },
  {
   "cell_type": "code",
   "execution_count": 327,
   "id": "fdcd166a",
   "metadata": {},
   "outputs": [],
   "source": [
    "x = data.drop(['y'], axis=1)\n",
    "y = data['y']"
   ]
  },
  {
   "cell_type": "code",
   "execution_count": 328,
   "id": "516d1620",
   "metadata": {},
   "outputs": [
    {
     "data": {
      "text/html": [
       "<div>\n",
       "<style scoped>\n",
       "    .dataframe tbody tr th:only-of-type {\n",
       "        vertical-align: middle;\n",
       "    }\n",
       "\n",
       "    .dataframe tbody tr th {\n",
       "        vertical-align: top;\n",
       "    }\n",
       "\n",
       "    .dataframe thead th {\n",
       "        text-align: right;\n",
       "    }\n",
       "</style>\n",
       "<table border=\"1\" class=\"dataframe\">\n",
       "  <thead>\n",
       "    <tr style=\"text-align: right;\">\n",
       "      <th></th>\n",
       "      <th>age</th>\n",
       "      <th>job</th>\n",
       "      <th>marital</th>\n",
       "      <th>education</th>\n",
       "      <th>default</th>\n",
       "      <th>housing</th>\n",
       "      <th>loan</th>\n",
       "      <th>contact</th>\n",
       "      <th>month</th>\n",
       "      <th>day_of_week</th>\n",
       "      <th>duration</th>\n",
       "      <th>campaign</th>\n",
       "      <th>pdays</th>\n",
       "      <th>previous</th>\n",
       "      <th>poutcome</th>\n",
       "      <th>emp.var.rate</th>\n",
       "      <th>cons.price.idx</th>\n",
       "      <th>cons.conf.idx</th>\n",
       "      <th>euribor3m</th>\n",
       "      <th>nr.employed</th>\n",
       "    </tr>\n",
       "  </thead>\n",
       "  <tbody>\n",
       "    <tr>\n",
       "      <th>0</th>\n",
       "      <td>30</td>\n",
       "      <td>2</td>\n",
       "      <td>2</td>\n",
       "      <td>1</td>\n",
       "      <td>0</td>\n",
       "      <td>1</td>\n",
       "      <td>0</td>\n",
       "      <td>0</td>\n",
       "      <td>5</td>\n",
       "      <td>5</td>\n",
       "      <td>487</td>\n",
       "      <td>2</td>\n",
       "      <td>999</td>\n",
       "      <td>0</td>\n",
       "      <td>3</td>\n",
       "      <td>-1.8</td>\n",
       "      <td>92.893</td>\n",
       "      <td>-46.2</td>\n",
       "      <td>1.313</td>\n",
       "      <td>5099.1</td>\n",
       "    </tr>\n",
       "    <tr>\n",
       "      <th>1</th>\n",
       "      <td>39</td>\n",
       "      <td>8</td>\n",
       "      <td>1</td>\n",
       "      <td>2</td>\n",
       "      <td>0</td>\n",
       "      <td>0</td>\n",
       "      <td>0</td>\n",
       "      <td>1</td>\n",
       "      <td>5</td>\n",
       "      <td>5</td>\n",
       "      <td>346</td>\n",
       "      <td>4</td>\n",
       "      <td>999</td>\n",
       "      <td>0</td>\n",
       "      <td>3</td>\n",
       "      <td>1.1</td>\n",
       "      <td>93.994</td>\n",
       "      <td>-36.4</td>\n",
       "      <td>4.855</td>\n",
       "      <td>5191.0</td>\n",
       "    </tr>\n",
       "    <tr>\n",
       "      <th>2</th>\n",
       "      <td>25</td>\n",
       "      <td>8</td>\n",
       "      <td>2</td>\n",
       "      <td>2</td>\n",
       "      <td>0</td>\n",
       "      <td>1</td>\n",
       "      <td>0</td>\n",
       "      <td>1</td>\n",
       "      <td>6</td>\n",
       "      <td>3</td>\n",
       "      <td>227</td>\n",
       "      <td>1</td>\n",
       "      <td>999</td>\n",
       "      <td>0</td>\n",
       "      <td>3</td>\n",
       "      <td>1.4</td>\n",
       "      <td>94.465</td>\n",
       "      <td>-41.8</td>\n",
       "      <td>4.962</td>\n",
       "      <td>5228.1</td>\n",
       "    </tr>\n",
       "    <tr>\n",
       "      <th>3</th>\n",
       "      <td>38</td>\n",
       "      <td>8</td>\n",
       "      <td>2</td>\n",
       "      <td>1</td>\n",
       "      <td>0</td>\n",
       "      <td>2</td>\n",
       "      <td>2</td>\n",
       "      <td>1</td>\n",
       "      <td>6</td>\n",
       "      <td>5</td>\n",
       "      <td>17</td>\n",
       "      <td>3</td>\n",
       "      <td>999</td>\n",
       "      <td>0</td>\n",
       "      <td>3</td>\n",
       "      <td>1.4</td>\n",
       "      <td>94.465</td>\n",
       "      <td>-41.8</td>\n",
       "      <td>4.959</td>\n",
       "      <td>5228.1</td>\n",
       "    </tr>\n",
       "    <tr>\n",
       "      <th>4</th>\n",
       "      <td>47</td>\n",
       "      <td>1</td>\n",
       "      <td>2</td>\n",
       "      <td>3</td>\n",
       "      <td>0</td>\n",
       "      <td>1</td>\n",
       "      <td>0</td>\n",
       "      <td>0</td>\n",
       "      <td>11</td>\n",
       "      <td>1</td>\n",
       "      <td>58</td>\n",
       "      <td>1</td>\n",
       "      <td>999</td>\n",
       "      <td>0</td>\n",
       "      <td>3</td>\n",
       "      <td>-0.1</td>\n",
       "      <td>93.200</td>\n",
       "      <td>-42.0</td>\n",
       "      <td>4.191</td>\n",
       "      <td>5195.8</td>\n",
       "    </tr>\n",
       "    <tr>\n",
       "      <th>...</th>\n",
       "      <td>...</td>\n",
       "      <td>...</td>\n",
       "      <td>...</td>\n",
       "      <td>...</td>\n",
       "      <td>...</td>\n",
       "      <td>...</td>\n",
       "      <td>...</td>\n",
       "      <td>...</td>\n",
       "      <td>...</td>\n",
       "      <td>...</td>\n",
       "      <td>...</td>\n",
       "      <td>...</td>\n",
       "      <td>...</td>\n",
       "      <td>...</td>\n",
       "      <td>...</td>\n",
       "      <td>...</td>\n",
       "      <td>...</td>\n",
       "      <td>...</td>\n",
       "      <td>...</td>\n",
       "      <td>...</td>\n",
       "    </tr>\n",
       "    <tr>\n",
       "      <th>4114</th>\n",
       "      <td>30</td>\n",
       "      <td>1</td>\n",
       "      <td>2</td>\n",
       "      <td>5</td>\n",
       "      <td>0</td>\n",
       "      <td>1</td>\n",
       "      <td>1</td>\n",
       "      <td>0</td>\n",
       "      <td>7</td>\n",
       "      <td>4</td>\n",
       "      <td>53</td>\n",
       "      <td>1</td>\n",
       "      <td>999</td>\n",
       "      <td>0</td>\n",
       "      <td>3</td>\n",
       "      <td>1.4</td>\n",
       "      <td>93.918</td>\n",
       "      <td>-42.7</td>\n",
       "      <td>4.958</td>\n",
       "      <td>5228.1</td>\n",
       "    </tr>\n",
       "    <tr>\n",
       "      <th>4115</th>\n",
       "      <td>39</td>\n",
       "      <td>1</td>\n",
       "      <td>2</td>\n",
       "      <td>2</td>\n",
       "      <td>0</td>\n",
       "      <td>1</td>\n",
       "      <td>0</td>\n",
       "      <td>1</td>\n",
       "      <td>7</td>\n",
       "      <td>5</td>\n",
       "      <td>219</td>\n",
       "      <td>1</td>\n",
       "      <td>999</td>\n",
       "      <td>0</td>\n",
       "      <td>3</td>\n",
       "      <td>1.4</td>\n",
       "      <td>93.918</td>\n",
       "      <td>-42.7</td>\n",
       "      <td>4.959</td>\n",
       "      <td>5228.1</td>\n",
       "    </tr>\n",
       "    <tr>\n",
       "      <th>4116</th>\n",
       "      <td>27</td>\n",
       "      <td>9</td>\n",
       "      <td>1</td>\n",
       "      <td>2</td>\n",
       "      <td>0</td>\n",
       "      <td>0</td>\n",
       "      <td>0</td>\n",
       "      <td>0</td>\n",
       "      <td>5</td>\n",
       "      <td>1</td>\n",
       "      <td>64</td>\n",
       "      <td>2</td>\n",
       "      <td>999</td>\n",
       "      <td>1</td>\n",
       "      <td>0</td>\n",
       "      <td>-1.8</td>\n",
       "      <td>92.893</td>\n",
       "      <td>-46.2</td>\n",
       "      <td>1.354</td>\n",
       "      <td>5099.1</td>\n",
       "    </tr>\n",
       "    <tr>\n",
       "      <th>4117</th>\n",
       "      <td>58</td>\n",
       "      <td>1</td>\n",
       "      <td>2</td>\n",
       "      <td>2</td>\n",
       "      <td>0</td>\n",
       "      <td>0</td>\n",
       "      <td>0</td>\n",
       "      <td>0</td>\n",
       "      <td>8</td>\n",
       "      <td>5</td>\n",
       "      <td>528</td>\n",
       "      <td>1</td>\n",
       "      <td>999</td>\n",
       "      <td>0</td>\n",
       "      <td>3</td>\n",
       "      <td>1.4</td>\n",
       "      <td>93.444</td>\n",
       "      <td>-36.1</td>\n",
       "      <td>4.966</td>\n",
       "      <td>5228.1</td>\n",
       "    </tr>\n",
       "    <tr>\n",
       "      <th>4118</th>\n",
       "      <td>34</td>\n",
       "      <td>5</td>\n",
       "      <td>1</td>\n",
       "      <td>2</td>\n",
       "      <td>0</td>\n",
       "      <td>1</td>\n",
       "      <td>0</td>\n",
       "      <td>0</td>\n",
       "      <td>11</td>\n",
       "      <td>3</td>\n",
       "      <td>175</td>\n",
       "      <td>1</td>\n",
       "      <td>999</td>\n",
       "      <td>0</td>\n",
       "      <td>3</td>\n",
       "      <td>-0.1</td>\n",
       "      <td>93.200</td>\n",
       "      <td>-42.0</td>\n",
       "      <td>4.120</td>\n",
       "      <td>5195.8</td>\n",
       "    </tr>\n",
       "  </tbody>\n",
       "</table>\n",
       "<p>4119 rows × 20 columns</p>\n",
       "</div>"
      ],
      "text/plain": [
       "      age  job  marital  education  default  housing  loan  contact  month  \\\n",
       "0      30    2        2          1        0        1     0        0      5   \n",
       "1      39    8        1          2        0        0     0        1      5   \n",
       "2      25    8        2          2        0        1     0        1      6   \n",
       "3      38    8        2          1        0        2     2        1      6   \n",
       "4      47    1        2          3        0        1     0        0     11   \n",
       "...   ...  ...      ...        ...      ...      ...   ...      ...    ...   \n",
       "4114   30    1        2          5        0        1     1        0      7   \n",
       "4115   39    1        2          2        0        1     0        1      7   \n",
       "4116   27    9        1          2        0        0     0        0      5   \n",
       "4117   58    1        2          2        0        0     0        0      8   \n",
       "4118   34    5        1          2        0        1     0        0     11   \n",
       "\n",
       "      day_of_week  duration  campaign  pdays  previous  poutcome  \\\n",
       "0               5       487         2    999         0         3   \n",
       "1               5       346         4    999         0         3   \n",
       "2               3       227         1    999         0         3   \n",
       "3               5        17         3    999         0         3   \n",
       "4               1        58         1    999         0         3   \n",
       "...           ...       ...       ...    ...       ...       ...   \n",
       "4114            4        53         1    999         0         3   \n",
       "4115            5       219         1    999         0         3   \n",
       "4116            1        64         2    999         1         0   \n",
       "4117            5       528         1    999         0         3   \n",
       "4118            3       175         1    999         0         3   \n",
       "\n",
       "      emp.var.rate  cons.price.idx  cons.conf.idx  euribor3m  nr.employed  \n",
       "0             -1.8          92.893          -46.2      1.313       5099.1  \n",
       "1              1.1          93.994          -36.4      4.855       5191.0  \n",
       "2              1.4          94.465          -41.8      4.962       5228.1  \n",
       "3              1.4          94.465          -41.8      4.959       5228.1  \n",
       "4             -0.1          93.200          -42.0      4.191       5195.8  \n",
       "...            ...             ...            ...        ...          ...  \n",
       "4114           1.4          93.918          -42.7      4.958       5228.1  \n",
       "4115           1.4          93.918          -42.7      4.959       5228.1  \n",
       "4116          -1.8          92.893          -46.2      1.354       5099.1  \n",
       "4117           1.4          93.444          -36.1      4.966       5228.1  \n",
       "4118          -0.1          93.200          -42.0      4.120       5195.8  \n",
       "\n",
       "[4119 rows x 20 columns]"
      ]
     },
     "execution_count": 328,
     "metadata": {},
     "output_type": "execute_result"
    }
   ],
   "source": [
    "x"
   ]
  },
  {
   "cell_type": "code",
   "execution_count": 329,
   "id": "0a6fbad6",
   "metadata": {},
   "outputs": [
    {
     "data": {
      "text/plain": [
       "0       0\n",
       "1       0\n",
       "2       0\n",
       "3       0\n",
       "4       0\n",
       "       ..\n",
       "4114    0\n",
       "4115    0\n",
       "4116    0\n",
       "4117    0\n",
       "4118    0\n",
       "Name: y, Length: 4119, dtype: int64"
      ]
     },
     "execution_count": 329,
     "metadata": {},
     "output_type": "execute_result"
    }
   ],
   "source": [
    "y"
   ]
  },
  {
   "cell_type": "code",
   "execution_count": 330,
   "id": "04c6dbcb",
   "metadata": {},
   "outputs": [],
   "source": [
    "X_train, X_test, y_train, y_test = train_test_split(x,y,test_size=0.3)"
   ]
  },
  {
   "cell_type": "code",
   "execution_count": 331,
   "id": "24582975",
   "metadata": {},
   "outputs": [
    {
     "name": "stdout",
     "output_type": "stream",
     "text": [
      "69.99% ada pada training set\n",
      "30.01% ada pada testing set\n"
     ]
    }
   ],
   "source": [
    "print(\"{0:0.2f}% ada pada training set\".format((len(X_train)/len(data.index)) * 100))\n",
    "print(\"{0:0.2f}% ada pada testing set\".format((len(X_test)/len(data.index)) * 100))"
   ]
  },
  {
   "cell_type": "code",
   "execution_count": 332,
   "id": "8d9fadc3",
   "metadata": {
    "scrolled": true
   },
   "outputs": [
    {
     "name": "stdout",
     "output_type": "stream",
     "text": [
      "Jumlah asli klien berlangganan term deposit: 451 (10.95%)\n",
      "Jumlah asli klien tidak berlangganan term deposit: 3668 (89.05%)\n",
      "\n",
      "Training True : 316 (10.96%)\n",
      "Training False : 2567 (89.04%)\n",
      "\n",
      "Testing True : 135 (10.92%)\n",
      "Testing False : 1101 (89.08%)\n"
     ]
    }
   ],
   "source": [
    "print(\"Jumlah asli klien berlangganan term deposit: {0} ({1:2.2f}%)\".format(len(data.loc[data['y'] == 1]), (len(data.loc[data['y'] == 1]) / len(data.index)) * 100.0))\n",
    "print(\"Jumlah asli klien tidak berlangganan term deposit: {0} ({1:2.2f}%)\".format(len(data.loc[data['y'] == 0]), (len(data.loc[data['y'] == 0]) / len(data.index)) * 100.0))\n",
    "print(\"\")\n",
    "print(\"Training True : {0} ({1:2.2f}%)\".format(len(y_train[y_train[:] == 1]), (len(y_train[y_train[:] == 1]) / len(y_train) * 100.0)))\n",
    "print(\"Training False : {0} ({1:2.2f}%)\".format(len(y_train[y_train[:] == 0]), (len(y_train[y_train[:] == 0]) / len(y_train) * 100.0)))\n",
    "print(\"\")\n",
    "print(\"Testing True : {0} ({1:2.2f}%)\".format(len(y_test[y_test[:] == 1]), (len(y_test[y_test[:] == 1]) / len(y_test) * 100.0)))\n",
    "print(\"Testing False : {0} ({1:2.2f}%)\".format(len(y_test[y_test[:] == 0]), (len(y_test[y_test[:] == 0]) / len(y_test) * 100.0))) \n"
   ]
  },
  {
   "cell_type": "code",
   "execution_count": 333,
   "id": "c25bd998",
   "metadata": {},
   "outputs": [],
   "source": [
    "# membangun model\n",
    "lr = LogisticRegression(solver='liblinear', random_state=0)"
   ]
  },
  {
   "cell_type": "code",
   "execution_count": 334,
   "id": "a0ffcc31",
   "metadata": {},
   "outputs": [
    {
     "data": {
      "text/html": [
       "<style>#sk-container-id-11 {color: black;background-color: white;}#sk-container-id-11 pre{padding: 0;}#sk-container-id-11 div.sk-toggleable {background-color: white;}#sk-container-id-11 label.sk-toggleable__label {cursor: pointer;display: block;width: 100%;margin-bottom: 0;padding: 0.3em;box-sizing: border-box;text-align: center;}#sk-container-id-11 label.sk-toggleable__label-arrow:before {content: \"▸\";float: left;margin-right: 0.25em;color: #696969;}#sk-container-id-11 label.sk-toggleable__label-arrow:hover:before {color: black;}#sk-container-id-11 div.sk-estimator:hover label.sk-toggleable__label-arrow:before {color: black;}#sk-container-id-11 div.sk-toggleable__content {max-height: 0;max-width: 0;overflow: hidden;text-align: left;background-color: #f0f8ff;}#sk-container-id-11 div.sk-toggleable__content pre {margin: 0.2em;color: black;border-radius: 0.25em;background-color: #f0f8ff;}#sk-container-id-11 input.sk-toggleable__control:checked~div.sk-toggleable__content {max-height: 200px;max-width: 100%;overflow: auto;}#sk-container-id-11 input.sk-toggleable__control:checked~label.sk-toggleable__label-arrow:before {content: \"▾\";}#sk-container-id-11 div.sk-estimator input.sk-toggleable__control:checked~label.sk-toggleable__label {background-color: #d4ebff;}#sk-container-id-11 div.sk-label input.sk-toggleable__control:checked~label.sk-toggleable__label {background-color: #d4ebff;}#sk-container-id-11 input.sk-hidden--visually {border: 0;clip: rect(1px 1px 1px 1px);clip: rect(1px, 1px, 1px, 1px);height: 1px;margin: -1px;overflow: hidden;padding: 0;position: absolute;width: 1px;}#sk-container-id-11 div.sk-estimator {font-family: monospace;background-color: #f0f8ff;border: 1px dotted black;border-radius: 0.25em;box-sizing: border-box;margin-bottom: 0.5em;}#sk-container-id-11 div.sk-estimator:hover {background-color: #d4ebff;}#sk-container-id-11 div.sk-parallel-item::after {content: \"\";width: 100%;border-bottom: 1px solid gray;flex-grow: 1;}#sk-container-id-11 div.sk-label:hover label.sk-toggleable__label {background-color: #d4ebff;}#sk-container-id-11 div.sk-serial::before {content: \"\";position: absolute;border-left: 1px solid gray;box-sizing: border-box;top: 0;bottom: 0;left: 50%;z-index: 0;}#sk-container-id-11 div.sk-serial {display: flex;flex-direction: column;align-items: center;background-color: white;padding-right: 0.2em;padding-left: 0.2em;position: relative;}#sk-container-id-11 div.sk-item {position: relative;z-index: 1;}#sk-container-id-11 div.sk-parallel {display: flex;align-items: stretch;justify-content: center;background-color: white;position: relative;}#sk-container-id-11 div.sk-item::before, #sk-container-id-11 div.sk-parallel-item::before {content: \"\";position: absolute;border-left: 1px solid gray;box-sizing: border-box;top: 0;bottom: 0;left: 50%;z-index: -1;}#sk-container-id-11 div.sk-parallel-item {display: flex;flex-direction: column;z-index: 1;position: relative;background-color: white;}#sk-container-id-11 div.sk-parallel-item:first-child::after {align-self: flex-end;width: 50%;}#sk-container-id-11 div.sk-parallel-item:last-child::after {align-self: flex-start;width: 50%;}#sk-container-id-11 div.sk-parallel-item:only-child::after {width: 0;}#sk-container-id-11 div.sk-dashed-wrapped {border: 1px dashed gray;margin: 0 0.4em 0.5em 0.4em;box-sizing: border-box;padding-bottom: 0.4em;background-color: white;}#sk-container-id-11 div.sk-label label {font-family: monospace;font-weight: bold;display: inline-block;line-height: 1.2em;}#sk-container-id-11 div.sk-label-container {text-align: center;}#sk-container-id-11 div.sk-container {/* jupyter's `normalize.less` sets `[hidden] { display: none; }` but bootstrap.min.css set `[hidden] { display: none !important; }` so we also need the `!important` here to be able to override the default hidden behavior on the sphinx rendered scikit-learn.org. See: https://github.com/scikit-learn/scikit-learn/issues/21755 */display: inline-block !important;position: relative;}#sk-container-id-11 div.sk-text-repr-fallback {display: none;}</style><div id=\"sk-container-id-11\" class=\"sk-top-container\"><div class=\"sk-text-repr-fallback\"><pre>LogisticRegression(random_state=0, solver=&#x27;liblinear&#x27;)</pre><b>In a Jupyter environment, please rerun this cell to show the HTML representation or trust the notebook. <br />On GitHub, the HTML representation is unable to render, please try loading this page with nbviewer.org.</b></div><div class=\"sk-container\" hidden><div class=\"sk-item\"><div class=\"sk-estimator sk-toggleable\"><input class=\"sk-toggleable__control sk-hidden--visually\" id=\"sk-estimator-id-11\" type=\"checkbox\" checked><label for=\"sk-estimator-id-11\" class=\"sk-toggleable__label sk-toggleable__label-arrow\">LogisticRegression</label><div class=\"sk-toggleable__content\"><pre>LogisticRegression(random_state=0, solver=&#x27;liblinear&#x27;)</pre></div></div></div></div></div>"
      ],
      "text/plain": [
       "LogisticRegression(random_state=0, solver='liblinear')"
      ]
     },
     "execution_count": 334,
     "metadata": {},
     "output_type": "execute_result"
    }
   ],
   "source": [
    "lr.fit(X_train, y_train)"
   ]
  },
  {
   "cell_type": "code",
   "execution_count": 335,
   "id": "61ed65d3",
   "metadata": {},
   "outputs": [
    {
     "data": {
      "text/plain": [
       "0.9177939646201873"
      ]
     },
     "execution_count": 335,
     "metadata": {},
     "output_type": "execute_result"
    }
   ],
   "source": [
    "lr.score(X_train, y_train)"
   ]
  },
  {
   "cell_type": "code",
   "execution_count": 336,
   "id": "45f66244",
   "metadata": {},
   "outputs": [
    {
     "data": {
      "text/plain": [
       "0.9110032362459547"
      ]
     },
     "execution_count": 336,
     "metadata": {},
     "output_type": "execute_result"
    }
   ],
   "source": [
    "lr.score(X_test, y_test)"
   ]
  },
  {
   "cell_type": "code",
   "execution_count": 337,
   "id": "92fc1b7c",
   "metadata": {},
   "outputs": [
    {
     "data": {
      "text/plain": [
       "array([0, 1], dtype=int64)"
      ]
     },
     "execution_count": 337,
     "metadata": {},
     "output_type": "execute_result"
    }
   ],
   "source": [
    "lr.classes_"
   ]
  },
  {
   "cell_type": "code",
   "execution_count": 338,
   "id": "66dd4c64",
   "metadata": {},
   "outputs": [
    {
     "name": "stdout",
     "output_type": "stream",
     "text": [
      "[0.00321938] [[ 0.00510214  0.02452795 -0.02770121  0.04124487 -0.03434009 -0.01776776\n",
      "  -0.0180665  -0.07620119 -0.00806837  0.0089408   0.00493758 -0.0754866\n",
      "  -0.0016564  -0.00957275  0.09612978 -0.20174373  0.34547837  0.06581047\n",
      "  -0.28178092 -0.00616798]]\n"
     ]
    }
   ],
   "source": [
    "print(lr.intercept_, lr.coef_)"
   ]
  },
  {
   "cell_type": "code",
   "execution_count": 339,
   "id": "30495266",
   "metadata": {},
   "outputs": [
    {
     "data": {
      "text/plain": [
       "array([[0.79262753, 0.20737247],\n",
       "       [0.95726482, 0.04273518],\n",
       "       [0.98409644, 0.01590356],\n",
       "       ...,\n",
       "       [0.97157392, 0.02842608],\n",
       "       [0.9258979 , 0.0741021 ],\n",
       "       [0.98299557, 0.01700443]])"
      ]
     },
     "execution_count": 339,
     "metadata": {},
     "output_type": "execute_result"
    }
   ],
   "source": [
    "# evaluate the model\n",
    "lr.predict_proba(x)"
   ]
  },
  {
   "cell_type": "code",
   "execution_count": 340,
   "id": "6621c0ae",
   "metadata": {},
   "outputs": [
    {
     "data": {
      "text/plain": [
       "array([0, 0, 0, ..., 0, 0, 0], dtype=int64)"
      ]
     },
     "execution_count": 340,
     "metadata": {},
     "output_type": "execute_result"
    }
   ],
   "source": [
    "lr.predict(x)"
   ]
  },
  {
   "cell_type": "code",
   "execution_count": 341,
   "id": "2780406e",
   "metadata": {},
   "outputs": [
    {
     "data": {
      "text/plain": [
       "0.9157562515173586"
      ]
     },
     "execution_count": 341,
     "metadata": {},
     "output_type": "execute_result"
    }
   ],
   "source": [
    "lr.score(x,y)"
   ]
  },
  {
   "cell_type": "code",
   "execution_count": 342,
   "id": "92c83fe6",
   "metadata": {},
   "outputs": [
    {
     "data": {
      "text/plain": [
       "array([[3581,   87],\n",
       "       [ 260,  191]], dtype=int64)"
      ]
     },
     "execution_count": 342,
     "metadata": {},
     "output_type": "execute_result"
    }
   ],
   "source": [
    "# confusion matrix\n",
    "confusion_matrix(y, lr.predict(x))"
   ]
  },
  {
   "cell_type": "code",
   "execution_count": 343,
   "id": "434e1b2b",
   "metadata": {},
   "outputs": [
    {
     "data": {
      "image/png": "[encoded data removed]",
      "text/plain": [
       "<Figure size 576x576 with 1 Axes>"
      ]
     },
     "metadata": {
      "needs_background": "light"
     },
     "output_type": "display_data"
    }
   ],
   "source": [
    "cm = confusion_matrix(y, lr.predict(x))\n",
    "\n",
    "fig, ax = plt.subplots(figsize=(8,8))\n",
    "\n",
    "ax.imshow(cm)\n",
    "ax.grid(False)\n",
    "ax.xaxis.set(ticks=(0,1), ticklabels=('Predicted 0s', 'Predicted 1s'))\n",
    "ax.yaxis.set(ticks=(0,1), ticklabels=('Actual 0s', 'Actual 1s'))\n",
    "ax.set_ylim(1.5, -0.5)\n",
    "\n",
    "for i in range(2):\n",
    "    for j in range(2):\n",
    "        ax.text(j,i,cm[i,j],ha='center',va='center',color='red')"
   ]
  },
  {
   "cell_type": "code",
   "execution_count": 344,
   "id": "eeb5b4df",
   "metadata": {},
   "outputs": [
    {
     "name": "stdout",
     "output_type": "stream",
     "text": [
      "              precision    recall  f1-score   support\n",
      "\n",
      "           0       0.93      0.98      0.95      3668\n",
      "           1       0.69      0.42      0.52       451\n",
      "\n",
      "    accuracy                           0.92      4119\n",
      "   macro avg       0.81      0.70      0.74      4119\n",
      "weighted avg       0.91      0.92      0.91      4119\n",
      "\n"
     ]
    }
   ],
   "source": [
    "print(classification_report(y, lr.predict(x)))"
   ]
  },
  {
   "cell_type": "code",
   "execution_count": 345,
   "id": "06899620",
   "metadata": {},
   "outputs": [
    {
     "data": {
      "text/html": [
       "<style>#sk-container-id-12 {color: black;background-color: white;}#sk-container-id-12 pre{padding: 0;}#sk-container-id-12 div.sk-toggleable {background-color: white;}#sk-container-id-12 label.sk-toggleable__label {cursor: pointer;display: block;width: 100%;margin-bottom: 0;padding: 0.3em;box-sizing: border-box;text-align: center;}#sk-container-id-12 label.sk-toggleable__label-arrow:before {content: \"▸\";float: left;margin-right: 0.25em;color: #696969;}#sk-container-id-12 label.sk-toggleable__label-arrow:hover:before {color: black;}#sk-container-id-12 div.sk-estimator:hover label.sk-toggleable__label-arrow:before {color: black;}#sk-container-id-12 div.sk-toggleable__content {max-height: 0;max-width: 0;overflow: hidden;text-align: left;background-color: #f0f8ff;}#sk-container-id-12 div.sk-toggleable__content pre {margin: 0.2em;color: black;border-radius: 0.25em;background-color: #f0f8ff;}#sk-container-id-12 input.sk-toggleable__control:checked~div.sk-toggleable__content {max-height: 200px;max-width: 100%;overflow: auto;}#sk-container-id-12 input.sk-toggleable__control:checked~label.sk-toggleable__label-arrow:before {content: \"▾\";}#sk-container-id-12 div.sk-estimator input.sk-toggleable__control:checked~label.sk-toggleable__label {background-color: #d4ebff;}#sk-container-id-12 div.sk-label input.sk-toggleable__control:checked~label.sk-toggleable__label {background-color: #d4ebff;}#sk-container-id-12 input.sk-hidden--visually {border: 0;clip: rect(1px 1px 1px 1px);clip: rect(1px, 1px, 1px, 1px);height: 1px;margin: -1px;overflow: hidden;padding: 0;position: absolute;width: 1px;}#sk-container-id-12 div.sk-estimator {font-family: monospace;background-color: #f0f8ff;border: 1px dotted black;border-radius: 0.25em;box-sizing: border-box;margin-bottom: 0.5em;}#sk-container-id-12 div.sk-estimator:hover {background-color: #d4ebff;}#sk-container-id-12 div.sk-parallel-item::after {content: \"\";width: 100%;border-bottom: 1px solid gray;flex-grow: 1;}#sk-container-id-12 div.sk-label:hover label.sk-toggleable__label {background-color: #d4ebff;}#sk-container-id-12 div.sk-serial::before {content: \"\";position: absolute;border-left: 1px solid gray;box-sizing: border-box;top: 0;bottom: 0;left: 50%;z-index: 0;}#sk-container-id-12 div.sk-serial {display: flex;flex-direction: column;align-items: center;background-color: white;padding-right: 0.2em;padding-left: 0.2em;position: relative;}#sk-container-id-12 div.sk-item {position: relative;z-index: 1;}#sk-container-id-12 div.sk-parallel {display: flex;align-items: stretch;justify-content: center;background-color: white;position: relative;}#sk-container-id-12 div.sk-item::before, #sk-container-id-12 div.sk-parallel-item::before {content: \"\";position: absolute;border-left: 1px solid gray;box-sizing: border-box;top: 0;bottom: 0;left: 50%;z-index: -1;}#sk-container-id-12 div.sk-parallel-item {display: flex;flex-direction: column;z-index: 1;position: relative;background-color: white;}#sk-container-id-12 div.sk-parallel-item:first-child::after {align-self: flex-end;width: 50%;}#sk-container-id-12 div.sk-parallel-item:last-child::after {align-self: flex-start;width: 50%;}#sk-container-id-12 div.sk-parallel-item:only-child::after {width: 0;}#sk-container-id-12 div.sk-dashed-wrapped {border: 1px dashed gray;margin: 0 0.4em 0.5em 0.4em;box-sizing: border-box;padding-bottom: 0.4em;background-color: white;}#sk-container-id-12 div.sk-label label {font-family: monospace;font-weight: bold;display: inline-block;line-height: 1.2em;}#sk-container-id-12 div.sk-label-container {text-align: center;}#sk-container-id-12 div.sk-container {/* jupyter's `normalize.less` sets `[hidden] { display: none; }` but bootstrap.min.css set `[hidden] { display: none !important; }` so we also need the `!important` here to be able to override the default hidden behavior on the sphinx rendered scikit-learn.org. See: https://github.com/scikit-learn/scikit-learn/issues/21755 */display: inline-block !important;position: relative;}#sk-container-id-12 div.sk-text-repr-fallback {display: none;}</style><div id=\"sk-container-id-12\" class=\"sk-top-container\"><div class=\"sk-text-repr-fallback\"><pre>LogisticRegression(C=10.0, random_state=0, solver=&#x27;liblinear&#x27;)</pre><b>In a Jupyter environment, please rerun this cell to show the HTML representation or trust the notebook. <br />On GitHub, the HTML representation is unable to render, please try loading this page with nbviewer.org.</b></div><div class=\"sk-container\" hidden><div class=\"sk-item\"><div class=\"sk-estimator sk-toggleable\"><input class=\"sk-toggleable__control sk-hidden--visually\" id=\"sk-estimator-id-12\" type=\"checkbox\" checked><label for=\"sk-estimator-id-12\" class=\"sk-toggleable__label sk-toggleable__label-arrow\">LogisticRegression</label><div class=\"sk-toggleable__content\"><pre>LogisticRegression(C=10.0, random_state=0, solver=&#x27;liblinear&#x27;)</pre></div></div></div></div></div>"
      ],
      "text/plain": [
       "LogisticRegression(C=10.0, random_state=0, solver='liblinear')"
      ]
     },
     "execution_count": 345,
     "metadata": {},
     "output_type": "execute_result"
    }
   ],
   "source": [
    "# improve the model\n",
    "# input parameter C=10\n",
    "lr_new = LogisticRegression(solver='liblinear', C=10.0, random_state=0)\n",
    "lr_new.fit(x, y)"
   ]
  },
  {
   "cell_type": "code",
   "execution_count": 346,
   "id": "2dce7788",
   "metadata": {},
   "outputs": [
    {
     "name": "stdout",
     "output_type": "stream",
     "text": [
      "[0.00324902] [[ 0.00385695  0.03007516 -0.07656228  0.00987093 -0.03055283 -0.02600292\n",
      "  -0.02977178 -0.10242194 -0.0280919  -0.04015498  0.00501634 -0.07740099\n",
      "  -0.00158835 -0.00250047  0.14479641 -0.20830758  0.35797195  0.06142879\n",
      "  -0.27059819 -0.00637788]]\n"
     ]
    }
   ],
   "source": [
    "print(lr_new.intercept_, lr_new.coef_)"
   ]
  },
  {
   "cell_type": "code",
   "execution_count": 347,
   "id": "65051a27",
   "metadata": {},
   "outputs": [
    {
     "name": "stdout",
     "output_type": "stream",
     "text": [
      "[[0.78284219 0.21715781]\n",
      " [0.95571376 0.04428624]\n",
      " [0.98257117 0.01742883]\n",
      " ...\n",
      " [0.96707977 0.03292023]\n",
      " [0.93275944 0.06724056]\n",
      " [0.98251367 0.01748633]]\n"
     ]
    }
   ],
   "source": [
    "print(lr_new.predict_proba(x))"
   ]
  },
  {
   "cell_type": "code",
   "execution_count": 348,
   "id": "9071a39b",
   "metadata": {},
   "outputs": [
    {
     "name": "stdout",
     "output_type": "stream",
     "text": [
      "[0 0 0 ... 0 0 0]\n"
     ]
    }
   ],
   "source": [
    "print(lr_new.predict(x))"
   ]
  },
  {
   "cell_type": "code",
   "execution_count": 349,
   "id": "8c9d3e08",
   "metadata": {},
   "outputs": [
    {
     "data": {
      "text/plain": [
       "0.915270696771061"
      ]
     },
     "execution_count": 349,
     "metadata": {},
     "output_type": "execute_result"
    }
   ],
   "source": [
    "lr_new.score(x,y)"
   ]
  },
  {
   "cell_type": "code",
   "execution_count": 350,
   "id": "af01c420",
   "metadata": {},
   "outputs": [
    {
     "data": {
      "text/plain": [
       "array([[3580,   88],\n",
       "       [ 261,  190]], dtype=int64)"
      ]
     },
     "execution_count": 350,
     "metadata": {},
     "output_type": "execute_result"
    }
   ],
   "source": [
    "confusion_matrix(y, lr_new.predict(x))"
   ]
  },
  {
   "cell_type": "code",
   "execution_count": 351,
   "id": "25693cf4",
   "metadata": {},
   "outputs": [
    {
     "data": {
      "image/png": "[encoded data removed]",
      "text/plain": [
       "<Figure size 576x576 with 1 Axes>"
      ]
     },
     "metadata": {
      "needs_background": "light"
     },
     "output_type": "display_data"
    }
   ],
   "source": [
    "cm = confusion_matrix(y, lr_new.predict(x))\n",
    "\n",
    "fig, ax = plt.subplots(figsize=(8,8))\n",
    "\n",
    "ax.imshow(cm)\n",
    "ax.grid(False)\n",
    "ax.xaxis.set(ticks=(0,1), ticklabels=('Predicted 0s', 'Predicted 1s'))\n",
    "ax.yaxis.set(ticks=(0,1), ticklabels=('Actual 0s', 'Actual 1s'))\n",
    "ax.set_ylim(1.5, -0.5)\n",
    "\n",
    "for i in range(2):\n",
    "    for j in range(2):\n",
    "        ax.text(j,i,cm[i,j],ha='center',va='center',color='red')"
   ]
  },
  {
   "cell_type": "code",
   "execution_count": 352,
   "id": "32c0ad46",
   "metadata": {},
   "outputs": [
    {
     "name": "stdout",
     "output_type": "stream",
     "text": [
      "              precision    recall  f1-score   support\n",
      "\n",
      "           0       0.93      0.98      0.95      3668\n",
      "           1       0.68      0.42      0.52       451\n",
      "\n",
      "    accuracy                           0.92      4119\n",
      "   macro avg       0.81      0.70      0.74      4119\n",
      "weighted avg       0.90      0.92      0.91      4119\n",
      "\n"
     ]
    }
   ],
   "source": [
    "print(classification_report(y, lr_new.predict(x)))"
   ]
  },
  {
   "cell_type": "code",
   "execution_count": 353,
   "id": "652880ae",
   "metadata": {},
   "outputs": [
    {
     "name": "stdout",
     "output_type": "stream",
     "text": [
      "Score data training:  0.916406520985085\n",
      "Score data testing:  0.912621359223301\n"
     ]
    }
   ],
   "source": [
    "# Apakah model overfitting atau tidak?\n",
    "print(\"Score data training: \", lr_new.score(X_train, y_train))\n",
    "print(\"Score data testing: \", lr_new.score(X_test, y_test))"
   ]
  },
  {
   "cell_type": "code",
   "execution_count": 354,
   "id": "66bcc5ef",
   "metadata": {},
   "outputs": [
    {
     "name": "stdout",
     "output_type": "stream",
     "text": [
      "0.916406520985085\n"
     ]
    }
   ],
   "source": [
    "lr_score = lr_new.score(X_train, y_train)\n",
    "print(lr_score)"
   ]
  },
  {
   "cell_type": "markdown",
   "id": "b81c59ff",
   "metadata": {},
   "source": [
    "Setelah dilakukan improve model dengan menaikkan nilai parameter C menjadi 10, maka hasil akurasi yang diperoleh menurun dari 0.9157562515173586 menjadi 0.9142995872784656."
   ]
  },
  {
   "cell_type": "markdown",
   "id": "904de2a9",
   "metadata": {},
   "source": [
    "Untuk mengecek apakah model yang dibangun overfitting atau tidak bisa dilakukan dengan membandingkan nilai score pada data training dengan data testing. Model yang dipilih ialah model dengan nilai parameter C=1. \n",
    "\n",
    "Hasil yang diperoleh ialah:\n",
    "Score data training = 0.916406520985085\n",
    "Score data testing = 0.912621359223301\n",
    "\n",
    "Dikarenakan selisih yang didapatkan tidak begitu jauh yaitu sekitar 0.002, maka model yang telah dibangun tidak overfitting."
   ]
  },
  {
   "cell_type": "markdown",
   "id": "166b5875",
   "metadata": {},
   "source": [
    "# b. KNN"
   ]
  },
  {
   "cell_type": "code",
   "execution_count": 355,
   "id": "5acebcb4",
   "metadata": {},
   "outputs": [],
   "source": [
    "# import library\n",
    "# model KNN dengan k=5\n",
    "from sklearn.neighbors import KNeighborsClassifier\n",
    "\n",
    "knn = KNeighborsClassifier(n_neighbors=5)\n",
    "\n",
    "knn.fit(X_train, y_train)\n",
    "\n",
    "y_pred = knn.predict(X_test)"
   ]
  },
  {
   "cell_type": "code",
   "execution_count": 356,
   "id": "0e750a09",
   "metadata": {},
   "outputs": [
    {
     "name": "stdout",
     "output_type": "stream",
     "text": [
      "Accuracy: 0.8859223300970874\n"
     ]
    }
   ],
   "source": [
    "# Evaluasi model\n",
    "from sklearn import metrics\n",
    "\n",
    "print(\"Accuracy:\", metrics.accuracy_score(y_test, y_pred))"
   ]
  },
  {
   "cell_type": "code",
   "execution_count": 357,
   "id": "6f7ea5c1",
   "metadata": {},
   "outputs": [
    {
     "data": {
      "text/plain": [
       "array([[3536,  132],\n",
       "       [ 198,  253]], dtype=int64)"
      ]
     },
     "execution_count": 357,
     "metadata": {},
     "output_type": "execute_result"
    }
   ],
   "source": [
    "# confusion matrix\n",
    "confusion_matrix(y, knn.predict(x))"
   ]
  },
  {
   "cell_type": "code",
   "execution_count": 358,
   "id": "f0b1dde1",
   "metadata": {},
   "outputs": [
    {
     "data": {
      "image/png": "[encoded data removed]",
      "text/plain": [
       "<Figure size 576x576 with 1 Axes>"
      ]
     },
     "metadata": {
      "needs_background": "light"
     },
     "output_type": "display_data"
    }
   ],
   "source": [
    "cm = confusion_matrix(y, knn.predict(x))\n",
    "\n",
    "fig, ax = plt.subplots(figsize=(8,8))\n",
    "\n",
    "ax.imshow(cm)\n",
    "ax.grid(False)\n",
    "ax.xaxis.set(ticks=(0,1), ticklabels=('Predicted 0s', 'Predicted 1s'))\n",
    "ax.yaxis.set(ticks=(0,1), ticklabels=('Actual 0s', 'Actual 1s'))\n",
    "ax.set_ylim(1.5, -0.5)\n",
    "\n",
    "for i in range(2):\n",
    "    for j in range(2):\n",
    "        ax.text(j,i,cm[i,j],ha='center',va='center',color='red')"
   ]
  },
  {
   "cell_type": "code",
   "execution_count": 359,
   "id": "d6f3d3a8",
   "metadata": {},
   "outputs": [],
   "source": [
    "# KNN with k=7\n",
    "knn_new = KNeighborsClassifier(n_neighbors=7)\n",
    "\n",
    "knn_new.fit(X_train, y_train)\n",
    "\n",
    "y_pred = knn_new.predict(X_test)"
   ]
  },
  {
   "cell_type": "code",
   "execution_count": 360,
   "id": "d7e781ae",
   "metadata": {},
   "outputs": [
    {
     "name": "stdout",
     "output_type": "stream",
     "text": [
      "Accuracy: 0.8915857605177994\n"
     ]
    }
   ],
   "source": [
    "from sklearn import metrics\n",
    "\n",
    "print(\"Accuracy:\", metrics.accuracy_score(y_test, y_pred))"
   ]
  },
  {
   "cell_type": "code",
   "execution_count": 361,
   "id": "cac0100f",
   "metadata": {},
   "outputs": [
    {
     "data": {
      "text/plain": [
       "array([[3534,  134],\n",
       "       [ 211,  240]], dtype=int64)"
      ]
     },
     "execution_count": 361,
     "metadata": {},
     "output_type": "execute_result"
    }
   ],
   "source": [
    "# confusion matrix\n",
    "confusion_matrix(y, knn_new.predict(x))"
   ]
  },
  {
   "cell_type": "code",
   "execution_count": 362,
   "id": "6b989aff",
   "metadata": {},
   "outputs": [
    {
     "data": {
      "image/png": "[encoded data removed]",
      "text/plain": [
       "<Figure size 576x576 with 1 Axes>"
      ]
     },
     "metadata": {
      "needs_background": "light"
     },
     "output_type": "display_data"
    }
   ],
   "source": [
    "cm = confusion_matrix(y, knn_new.predict(x))\n",
    "\n",
    "fig, ax = plt.subplots(figsize=(8,8))\n",
    "\n",
    "ax.imshow(cm)\n",
    "ax.grid(False)\n",
    "ax.xaxis.set(ticks=(0,1), ticklabels=('Predicted 0s', 'Predicted 1s'))\n",
    "ax.yaxis.set(ticks=(0,1), ticklabels=('Actual 0s', 'Actual 1s'))\n",
    "ax.set_ylim(1.5, -0.5)\n",
    "\n",
    "for i in range(2):\n",
    "    for j in range(2):\n",
    "        ax.text(j,i,cm[i,j],ha='center',va='center',color='red')"
   ]
  },
  {
   "cell_type": "markdown",
   "id": "13f0592c",
   "metadata": {},
   "source": [
    "Setelah percobaan menggunakan KNN dengan nilai 5 dan 7. Maka sekarang akan dicoba untuk melihat nilai k yang paling baik untuk digunakan. Nilai k yang baik akan menghasilkan error yang minimal. "
   ]
  },
  {
   "cell_type": "code",
   "execution_count": 363,
   "id": "5a761df6",
   "metadata": {},
   "outputs": [],
   "source": [
    "error = []\n",
    "\n",
    "for i in range(1,40):\n",
    "    KNN = KNeighborsClassifier(n_neighbors=i)\n",
    "    KNN.fit(X_train,y_train)\n",
    "    pred_i = KNN.predict(X_test)\n",
    "    error.append(np.mean(pred_i != y_test))"
   ]
  },
  {
   "cell_type": "code",
   "execution_count": 364,
   "id": "e707c3cd",
   "metadata": {},
   "outputs": [
    {
     "data": {
      "text/plain": [
       "Text(0, 0.5, 'Error mean')"
      ]
     },
     "execution_count": 364,
     "metadata": {},
     "output_type": "execute_result"
    },
    {
     "data": {
      "image/png": "[encoded data removed]",
      "text/plain": [
       "<Figure size 864x432 with 1 Axes>"
      ]
     },
     "metadata": {
      "needs_background": "light"
     },
     "output_type": "display_data"
    }
   ],
   "source": [
    "plt.figure(figsize=(12,6))\n",
    "plt.plot(range(1,40), error, color ='red', linestyle='dashed', marker='o',\n",
    "         markerfacecolor='blue', markersize=10)\n",
    "plt.title('Error Rate K')\n",
    "plt.xlabel('K')\n",
    "plt.ylabel('Error mean')"
   ]
  },
  {
   "cell_type": "markdown",
   "id": "e8bbca01",
   "metadata": {},
   "source": [
    "Berdasarkan hasil plot diatas, nilai k terbaik adalah 17 dengan nilai error terkecil yaitu sebesar 0.090. Maka akan dicoba untuk menguji KNN dengan nilai k = 17"
   ]
  },
  {
   "cell_type": "code",
   "execution_count": 365,
   "id": "c52e95fd",
   "metadata": {},
   "outputs": [],
   "source": [
    "knn_17 = KNeighborsClassifier(n_neighbors=17)\n",
    "\n",
    "knn_17.fit(X_train, y_train)\n",
    "\n",
    "y_pred = knn_17.predict(X_test)"
   ]
  },
  {
   "cell_type": "code",
   "execution_count": 366,
   "id": "aef89b0f",
   "metadata": {},
   "outputs": [
    {
     "name": "stdout",
     "output_type": "stream",
     "text": [
      "Accuracy score:  0.9004854368932039\n"
     ]
    }
   ],
   "source": [
    "print('Accuracy score: ', metrics.accuracy_score(y_pred, y_test))"
   ]
  },
  {
   "cell_type": "code",
   "execution_count": 367,
   "id": "1d22370f",
   "metadata": {},
   "outputs": [
    {
     "name": "stdout",
     "output_type": "stream",
     "text": [
      "0.9004854368932039\n"
     ]
    }
   ],
   "source": [
    "knn_score = metrics.accuracy_score(y_pred, y_test)\n",
    "print(knn_score)"
   ]
  },
  {
   "cell_type": "code",
   "execution_count": 368,
   "id": "429e7031",
   "metadata": {},
   "outputs": [
    {
     "data": {
      "text/plain": [
       "array([[3528,  140],\n",
       "       [ 219,  232]], dtype=int64)"
      ]
     },
     "execution_count": 368,
     "metadata": {},
     "output_type": "execute_result"
    }
   ],
   "source": [
    "# confusion matrix\n",
    "confusion_matrix(y, knn_17.predict(x))"
   ]
  },
  {
   "cell_type": "code",
   "execution_count": 369,
   "id": "89413e71",
   "metadata": {},
   "outputs": [
    {
     "data": {
      "image/png": "[encoded data removed]",
      "text/plain": [
       "<Figure size 576x576 with 1 Axes>"
      ]
     },
     "metadata": {
      "needs_background": "light"
     },
     "output_type": "display_data"
    }
   ],
   "source": [
    "cm = confusion_matrix(y, knn_17.predict(x))\n",
    "\n",
    "fig, ax = plt.subplots(figsize=(8,8))\n",
    "\n",
    "ax.imshow(cm)\n",
    "ax.grid(False)\n",
    "ax.xaxis.set(ticks=(0,1), ticklabels=('Predicted 0s', 'Predicted 1s'))\n",
    "ax.yaxis.set(ticks=(0,1), ticklabels=('Actual 0s', 'Actual 1s'))\n",
    "ax.set_ylim(1.5, -0.5)\n",
    "\n",
    "for i in range(2):\n",
    "    for j in range(2):\n",
    "        ax.text(j,i,cm[i,j],ha='center',va='center',color='red')"
   ]
  },
  {
   "cell_type": "markdown",
   "id": "084b9161",
   "metadata": {},
   "source": [
    "Berdasarkan ketiga percobaan KNN dengan nilai yang berbeda, maka KNN memiliki akurasi paling bagus saat k=17 dengan nilai akurasi sebesar 0.9101941747572816. Hal ini jauh lebih baik dibandingkan nilai akurasi sebelumnya. "
   ]
  },
  {
   "cell_type": "code",
   "execution_count": 370,
   "id": "77f51f01",
   "metadata": {},
   "outputs": [
    {
     "name": "stdout",
     "output_type": "stream",
     "text": [
      "Score data training:  0.9181408255289629\n",
      "Score data testing:  0.9004854368932039\n"
     ]
    }
   ],
   "source": [
    "# Apakah model overfitting atau tidak?\n",
    "print(\"Score data training: \", knn_17.score(X_train, y_train))\n",
    "print(\"Score data testing: \", knn_17.score(X_test, y_test))"
   ]
  },
  {
   "cell_type": "markdown",
   "id": "cd1605e6",
   "metadata": {},
   "source": [
    "Untuk mengecek apakah model yang dibangun overfitting atau tidak bisa dilakukan dengan membandingkan nilai score pada data training dengan data testing. Model yang dipilih ialah model dengan nilai parameter C=1. \n",
    "\n",
    "Hasil yang diperoleh ialah:\n",
    "Score data training = 0.9181408255289629\n",
    "Score data testing = 0.9004854368932039\n",
    "\n",
    "Dikarenakan selisih yang didapatkan tidak begitu jauh yaitu sekitar 0.007, maka model yang telah dibangun tidak overfitting."
   ]
  },
  {
   "cell_type": "markdown",
   "id": "a9aaa7dc",
   "metadata": {},
   "source": [
    "# c. SVM"
   ]
  },
  {
   "cell_type": "code",
   "execution_count": 371,
   "id": "f691fbea",
   "metadata": {},
   "outputs": [],
   "source": [
    "# import library untuk SVM\n",
    "from sklearn import svm\n",
    "\n",
    "clf = svm.SVC(kernel='linear')\n",
    "\n",
    "clf.fit(X_train, y_train)\n",
    "\n",
    "y_pred = clf.predict(X_test)"
   ]
  },
  {
   "cell_type": "code",
   "execution_count": 372,
   "id": "f56667ef",
   "metadata": {},
   "outputs": [
    {
     "name": "stdout",
     "output_type": "stream",
     "text": [
      "Accuracy :  0.9142394822006472\n"
     ]
    }
   ],
   "source": [
    "# evaluasi model\n",
    "print(\"Accuracy : \", metrics.accuracy_score(y_test, y_pred))"
   ]
  },
  {
   "cell_type": "code",
   "execution_count": 373,
   "id": "04d4713c",
   "metadata": {},
   "outputs": [
    {
     "data": {
      "text/plain": [
       "array([[3600,   68],\n",
       "       [ 292,  159]], dtype=int64)"
      ]
     },
     "execution_count": 373,
     "metadata": {},
     "output_type": "execute_result"
    }
   ],
   "source": [
    "confusion_matrix(y, clf.predict(x))"
   ]
  },
  {
   "cell_type": "code",
   "execution_count": 374,
   "id": "7c0b26ec",
   "metadata": {},
   "outputs": [
    {
     "data": {
      "image/png": "[encoded data removed]",
      "text/plain": [
       "<Figure size 576x576 with 1 Axes>"
      ]
     },
     "metadata": {
      "needs_background": "light"
     },
     "output_type": "display_data"
    }
   ],
   "source": [
    "cm = confusion_matrix(y, clf.predict(x))\n",
    "\n",
    "fig, ax = plt.subplots(figsize=(8,8))\n",
    "\n",
    "ax.imshow(cm)\n",
    "ax.grid(False)\n",
    "ax.xaxis.set(ticks=(0,1), ticklabels=('Predicted 0s', 'Predicted 1s'))\n",
    "ax.yaxis.set(ticks=(0,1), ticklabels=('Actual 0s', 'Actual 1s'))\n",
    "ax.set_ylim(1.5, -0.5)\n",
    "\n",
    "for i in range(2):\n",
    "    for j in range(2):\n",
    "        ax.text(j,i,cm[i,j],ha='center',va='center',color='red')"
   ]
  },
  {
   "cell_type": "code",
   "execution_count": 375,
   "id": "3c133fdc",
   "metadata": {},
   "outputs": [
    {
     "name": "stdout",
     "output_type": "stream",
     "text": [
      "Precision:  0.7230769230769231\n",
      "Recall:  0.34814814814814815\n"
     ]
    }
   ],
   "source": [
    "# Periksa presisi dan recall model\n",
    "print(\"Precision: \", metrics.precision_score(y_test, y_pred))\n",
    "print(\"Recall: \", metrics.recall_score(y_test, y_pred))"
   ]
  },
  {
   "cell_type": "markdown",
   "id": "57a621e9",
   "metadata": {},
   "source": [
    "Nilai presisi dan recall rendah, improve lagi. Akan dicoba dengan menaikkan parameter C menjadi 17. "
   ]
  },
  {
   "cell_type": "code",
   "execution_count": 376,
   "id": "929b00f2",
   "metadata": {},
   "outputs": [],
   "source": [
    "# improve the model\n",
    "# menaikkan parameter C menjadi 17\n",
    "clf_new = svm.SVC(C=17.0, kernel='linear', random_state=0)\n",
    "\n",
    "clf_new.fit(X_train, y_train)\n",
    "\n",
    "y_pred = clf_new.predict(X_test)"
   ]
  },
  {
   "cell_type": "code",
   "execution_count": 377,
   "id": "b18cdebb",
   "metadata": {},
   "outputs": [
    {
     "name": "stdout",
     "output_type": "stream",
     "text": [
      "Accuracy :  0.9158576051779935\n"
     ]
    }
   ],
   "source": [
    "# evaluasi model\n",
    "print(\"Accuracy : \", metrics.accuracy_score(y_test, y_pred))"
   ]
  },
  {
   "cell_type": "code",
   "execution_count": 378,
   "id": "c221cb69",
   "metadata": {},
   "outputs": [
    {
     "name": "stdout",
     "output_type": "stream",
     "text": [
      "0.9158576051779935\n"
     ]
    }
   ],
   "source": [
    "svm_score = metrics.accuracy_score(y_test, y_pred)\n",
    "print(svm_score)"
   ]
  },
  {
   "cell_type": "code",
   "execution_count": 379,
   "id": "6d800f74",
   "metadata": {},
   "outputs": [
    {
     "data": {
      "text/plain": [
       "array([[3614,   54],\n",
       "       [ 310,  141]], dtype=int64)"
      ]
     },
     "execution_count": 379,
     "metadata": {},
     "output_type": "execute_result"
    }
   ],
   "source": [
    "confusion_matrix(y, clf_new.predict(x))"
   ]
  },
  {
   "cell_type": "code",
   "execution_count": 380,
   "id": "b1675740",
   "metadata": {},
   "outputs": [
    {
     "data": {
      "image/png": "[encoded data removed]",
      "text/plain": [
       "<Figure size 576x576 with 1 Axes>"
      ]
     },
     "metadata": {
      "needs_background": "light"
     },
     "output_type": "display_data"
    }
   ],
   "source": [
    "cm = confusion_matrix(y, clf_new.predict(x))\n",
    "\n",
    "fig, ax = plt.subplots(figsize=(8,8))\n",
    "\n",
    "ax.imshow(cm)\n",
    "ax.grid(False)\n",
    "ax.xaxis.set(ticks=(0,1), ticklabels=('Predicted 0s', 'Predicted 1s'))\n",
    "ax.yaxis.set(ticks=(0,1), ticklabels=('Actual 0s', 'Actual 1s'))\n",
    "ax.set_ylim(1.5, -0.5)\n",
    "\n",
    "for i in range(2):\n",
    "    for j in range(2):\n",
    "        ax.text(j,i,cm[i,j],ha='center',va='center',color='red')"
   ]
  },
  {
   "cell_type": "code",
   "execution_count": 381,
   "id": "6675598e",
   "metadata": {},
   "outputs": [
    {
     "name": "stdout",
     "output_type": "stream",
     "text": [
      "Precision:  0.7627118644067796\n",
      "Recall:  0.3333333333333333\n"
     ]
    }
   ],
   "source": [
    "# Periksa presisi dan recall model\n",
    "print(\"Precision: \", metrics.precision_score(y_test, y_pred))\n",
    "print(\"Recall: \", metrics.recall_score(y_test, y_pred))"
   ]
  },
  {
   "cell_type": "markdown",
   "id": "cad2b398",
   "metadata": {},
   "source": [
    "Berdasarkan percobaan diatas, nilai akurasi tertinggi diperoleh pada saat parameter C diubah menjadi 17 yaitu sebesar 0.9142394822006472 diikuti dengan adanya peningkatan pada nilai presisi dan recall."
   ]
  },
  {
   "cell_type": "code",
   "execution_count": 382,
   "id": "2fff2edf",
   "metadata": {},
   "outputs": [
    {
     "name": "stdout",
     "output_type": "stream",
     "text": [
      "Score data training:  0.909816163718349\n",
      "Score data testing:  0.9158576051779935\n"
     ]
    }
   ],
   "source": [
    "# Apakah model overfitting atau tidak?\n",
    "print(\"Score data training: \", clf_new.score(X_train, y_train))\n",
    "print(\"Score data testing: \", clf_new.score(X_test, y_test))"
   ]
  },
  {
   "cell_type": "markdown",
   "id": "9320fca2",
   "metadata": {},
   "source": [
    "Untuk mengecek apakah model yang dibangun overfitting atau tidak bisa dilakukan dengan membandingkan nilai score pada data training dengan data testing. Model yang dipilih ialah model dengan nilai parameter C=1.\n",
    "\n",
    "Hasil yang diperoleh ialah: Score data training = 0.909816163718349 Score data testing = 0.9158576051779935\n",
    "\n",
    "Dikarenakan selisih yang didapatkan tidak begitu jauh yaitu sekitar 0.003, maka model yang telah dibangun tidak overfitting."
   ]
  },
  {
   "cell_type": "markdown",
   "id": "26a2cb10",
   "metadata": {},
   "source": [
    "# d. Decision Tree"
   ]
  },
  {
   "cell_type": "code",
   "execution_count": 383,
   "id": "54354374",
   "metadata": {},
   "outputs": [],
   "source": [
    "# import library\n",
    "from sklearn.tree import DecisionTreeClassifier\n",
    "\n",
    "dt = DecisionTreeClassifier()\n",
    "\n",
    "dt = dt.fit(X_train, y_train)\n",
    "\n",
    "y_pred = dt.predict(X_test)"
   ]
  },
  {
   "cell_type": "code",
   "execution_count": 384,
   "id": "af0723c8",
   "metadata": {},
   "outputs": [
    {
     "name": "stdout",
     "output_type": "stream",
     "text": [
      "Accuracy :  0.8867313915857605\n"
     ]
    }
   ],
   "source": [
    "# evaluasi model\n",
    "print(\"Accuracy : \", metrics.accuracy_score(y_test, y_pred))"
   ]
  },
  {
   "cell_type": "code",
   "execution_count": 385,
   "id": "2c9ad5cf",
   "metadata": {},
   "outputs": [
    {
     "name": "stdout",
     "output_type": "stream",
     "text": [
      "0.8867313915857605\n"
     ]
    }
   ],
   "source": [
    "dt_score = metrics.accuracy_score(y_test, y_pred)\n",
    "print(dt_score)"
   ]
  },
  {
   "cell_type": "code",
   "execution_count": 386,
   "id": "50bd4ec9",
   "metadata": {},
   "outputs": [
    {
     "data": {
      "text/plain": [
       "array([[3587,   81],\n",
       "       [  59,  392]], dtype=int64)"
      ]
     },
     "execution_count": 386,
     "metadata": {},
     "output_type": "execute_result"
    }
   ],
   "source": [
    "# confusion matrix\n",
    "confusion_matrix(y, dt.predict(x))"
   ]
  },
  {
   "cell_type": "code",
   "execution_count": 387,
   "id": "39ee9694",
   "metadata": {
    "scrolled": false
   },
   "outputs": [
    {
     "data": {
      "image/png": "[encoded data removed]",
      "text/plain": [
       "<Figure size 576x576 with 1 Axes>"
      ]
     },
     "metadata": {
      "needs_background": "light"
     },
     "output_type": "display_data"
    }
   ],
   "source": [
    "cm = confusion_matrix(y, dt.predict(x))\n",
    "\n",
    "fig, ax = plt.subplots(figsize=(8,8))\n",
    "\n",
    "ax.imshow(cm)\n",
    "ax.grid(False)\n",
    "ax.xaxis.set(ticks=(0,1), ticklabels=('Predicted 0s', 'Predicted 1s'))\n",
    "ax.yaxis.set(ticks=(0,1), ticklabels=('Actual 0s', 'Actual 1s'))\n",
    "ax.set_ylim(1.5, -0.5)\n",
    "\n",
    "for i in range(2):\n",
    "    for j in range(2):\n",
    "        ax.text(j,i,cm[i,j],ha='center',va='center',color='red')"
   ]
  },
  {
   "cell_type": "code",
   "execution_count": 390,
   "id": "173624ba",
   "metadata": {},
   "outputs": [
    {
     "name": "stdout",
     "output_type": "stream",
     "text": [
      "Score data training:  1.0\n",
      "Score data testing:  0.8867313915857605\n"
     ]
    }
   ],
   "source": [
    "# Apakah model overfitting atau tidak?\n",
    "print(\"Score data training: \", dt.score(X_train, y_train))\n",
    "print(\"Score data testing: \", dt.score(X_test, y_test))"
   ]
  },
  {
   "cell_type": "markdown",
   "id": "978cf480",
   "metadata": {},
   "source": [
    "Untuk mengecek apakah model yang dibangun overfitting atau tidak bisa dilakukan dengan membandingkan nilai score pada data training dengan data testing. \n",
    "\n",
    "Hasil yang diperoleh ialah: Score data training = 1.0 Score data testing = 0.8867313915857605\n",
    "\n",
    "Dapat dilihat bahwa selisih yang didapatkan cukup besar dengan nilai sekitar 0.12, yang menandakan model overfitting."
   ]
  },
  {
   "cell_type": "markdown",
   "id": "4ec94fe5",
   "metadata": {},
   "source": [
    "# e. Random Forest"
   ]
  },
  {
   "cell_type": "code",
   "execution_count": 391,
   "id": "faef3c25",
   "metadata": {},
   "outputs": [],
   "source": [
    "# import library\n",
    "from sklearn.ensemble import RandomForestClassifier\n",
    "\n",
    "rf = RandomForestClassifier()\n",
    "\n",
    "rf.fit(X_train, y_train)\n",
    "\n",
    "y_pred = rf.predict(X_test)"
   ]
  },
  {
   "cell_type": "code",
   "execution_count": 392,
   "id": "5ac384fb",
   "metadata": {},
   "outputs": [
    {
     "name": "stdout",
     "output_type": "stream",
     "text": [
      "Accuracy:  0.9053398058252428\n"
     ]
    }
   ],
   "source": [
    "# evaluasi model\n",
    "print(\"Accuracy: \", metrics.accuracy_score(y_test, y_pred))"
   ]
  },
  {
   "cell_type": "code",
   "execution_count": 393,
   "id": "8fbdfc9d",
   "metadata": {},
   "outputs": [
    {
     "name": "stdout",
     "output_type": "stream",
     "text": [
      "0.9053398058252428\n"
     ]
    }
   ],
   "source": [
    "rf_score = metrics.accuracy_score(y_test, y_pred)\n",
    "print(rf_score)"
   ]
  },
  {
   "cell_type": "code",
   "execution_count": 394,
   "id": "5523271f",
   "metadata": {},
   "outputs": [
    {
     "data": {
      "text/plain": [
       "array([[3630,   38],\n",
       "       [  79,  372]], dtype=int64)"
      ]
     },
     "execution_count": 394,
     "metadata": {},
     "output_type": "execute_result"
    }
   ],
   "source": [
    "# confusion matrix\n",
    "confusion_matrix(y, rf.predict(x))"
   ]
  },
  {
   "cell_type": "code",
   "execution_count": 395,
   "id": "7fb09570",
   "metadata": {},
   "outputs": [
    {
     "data": {
      "image/png": "[encoded data removed]",
      "text/plain": [
       "<Figure size 576x576 with 1 Axes>"
      ]
     },
     "metadata": {
      "needs_background": "light"
     },
     "output_type": "display_data"
    }
   ],
   "source": [
    "cm = confusion_matrix(y, rf.predict(x))\n",
    "\n",
    "fig, ax = plt.subplots(figsize=(8,8))\n",
    "\n",
    "ax.imshow(cm)\n",
    "ax.grid(False)\n",
    "ax.xaxis.set(ticks=(0,1), ticklabels=('Predicted 0s', 'Predicted 1s'))\n",
    "ax.yaxis.set(ticks=(0,1), ticklabels=('Actual 0s', 'Actual 1s'))\n",
    "ax.set_ylim(1.5, -0.5)\n",
    "\n",
    "for i in range(2):\n",
    "    for j in range(2):\n",
    "        ax.text(j,i,cm[i,j],ha='center',va='center',color='red')"
   ]
  },
  {
   "cell_type": "code",
   "execution_count": 396,
   "id": "174b497d",
   "metadata": {},
   "outputs": [
    {
     "name": "stdout",
     "output_type": "stream",
     "text": [
      "Score data training:  1.0\n",
      "Score data testing:  0.9053398058252428\n"
     ]
    }
   ],
   "source": [
    "# Apakah model overfitting atau tidak?\n",
    "print(\"Score data training: \", rf.score(X_train, y_train))\n",
    "print(\"Score data testing: \", rf.score(X_test, y_test))"
   ]
  },
  {
   "cell_type": "markdown",
   "id": "62824531",
   "metadata": {},
   "source": [
    "Untuk mengecek apakah model yang dibangun overfitting atau tidak bisa dilakukan dengan membandingkan nilai score pada data training dengan data testing.\n",
    "\n",
    "Hasil yang diperoleh ialah: Score data training = 1.0 Score data testing = 0.9053398058252428\n",
    "\n",
    "Dapat dilihat bahwa selisih yang didapatkan cukup kecil dengan nilai sekitar 0.09, yang menandakan model tidak overfitting."
   ]
  },
  {
   "cell_type": "markdown",
   "id": "67ce3b08",
   "metadata": {},
   "source": [
    "# f. Naive Bayes"
   ]
  },
  {
   "cell_type": "code",
   "execution_count": 397,
   "id": "0c45f1e9",
   "metadata": {},
   "outputs": [],
   "source": [
    "# import library \n",
    "from sklearn.naive_bayes import GaussianNB\n",
    "\n",
    "nb = GaussianNB()\n",
    "\n",
    "nb.fit(X_train,y_train)\n",
    "\n",
    "predicted = nb.predict(X_test)"
   ]
  },
  {
   "cell_type": "code",
   "execution_count": 398,
   "id": "4a17b42c",
   "metadata": {},
   "outputs": [
    {
     "name": "stdout",
     "output_type": "stream",
     "text": [
      "Accuracy:  0.8422330097087378\n"
     ]
    }
   ],
   "source": [
    "# evaluasi model\n",
    "print(\"Accuracy: \", metrics.accuracy_score(y_test, predicted))"
   ]
  },
  {
   "cell_type": "code",
   "execution_count": 399,
   "id": "8d262e27",
   "metadata": {},
   "outputs": [
    {
     "name": "stdout",
     "output_type": "stream",
     "text": [
      "0.8422330097087378\n"
     ]
    }
   ],
   "source": [
    "nb_score = metrics.accuracy_score(y_test, predicted)\n",
    "print(nb_score)"
   ]
  },
  {
   "cell_type": "code",
   "execution_count": 400,
   "id": "eaf49680",
   "metadata": {},
   "outputs": [
    {
     "data": {
      "text/plain": [
       "array([[3614,   54],\n",
       "       [ 310,  141]], dtype=int64)"
      ]
     },
     "execution_count": 400,
     "metadata": {},
     "output_type": "execute_result"
    }
   ],
   "source": [
    "# confusion matrix\n",
    "confusion_matrix(y, clf_new.predict(x))"
   ]
  },
  {
   "cell_type": "code",
   "execution_count": 401,
   "id": "ca175d25",
   "metadata": {},
   "outputs": [
    {
     "data": {
      "image/png": "[encoded data removed]",
      "text/plain": [
       "<Figure size 576x576 with 1 Axes>"
      ]
     },
     "metadata": {
      "needs_background": "light"
     },
     "output_type": "display_data"
    }
   ],
   "source": [
    "cm = confusion_matrix(y, clf_new.predict(x))\n",
    "\n",
    "fig, ax = plt.subplots(figsize=(8,8))\n",
    "\n",
    "ax.imshow(cm)\n",
    "ax.grid(False)\n",
    "ax.xaxis.set(ticks=(0,1), ticklabels=('Predicted 0s', 'Predicted 1s'))\n",
    "ax.yaxis.set(ticks=(0,1), ticklabels=('Actual 0s', 'Actual 1s'))\n",
    "ax.set_ylim(1.5, -0.5)\n",
    "\n",
    "for i in range(2):\n",
    "    for j in range(2):\n",
    "        ax.text(j,i,cm[i,j],ha='center',va='center',color='red')"
   ]
  },
  {
   "cell_type": "code",
   "execution_count": 402,
   "id": "8cba34b1",
   "metadata": {},
   "outputs": [
    {
     "name": "stdout",
     "output_type": "stream",
     "text": [
      "Score data training:  0.8522372528616025\n",
      "Score data testing:  0.8422330097087378\n"
     ]
    }
   ],
   "source": [
    "# Apakah model overfitting atau tidak?\n",
    "print(\"Score data training: \", nb.score(X_train, y_train))\n",
    "print(\"Score data testing: \", nb.score(X_test, y_test))"
   ]
  },
  {
   "cell_type": "markdown",
   "id": "3d53b2ec",
   "metadata": {},
   "source": [
    "Untuk mengecek apakah model yang dibangun overfitting atau tidak bisa dilakukan dengan membandingkan nilai score pada data training dengan data testing.\n",
    "\n",
    "Hasil yang diperoleh ialah: Score data training = 0.8522372528616025 Score data testing = 0.8422330097087378\n",
    "\n",
    "Dikarenakan selisih yang didapatkan tidak begitu jauh yaitu sekitar 0.01, maka model yang telah dibangun tidak overfitting."
   ]
  },
  {
   "cell_type": "code",
   "execution_count": 403,
   "id": "9aa1ca6a",
   "metadata": {},
   "outputs": [
    {
     "name": "stdout",
     "output_type": "stream",
     "text": [
      "Logistic Regression:  0.916406520985085\n",
      "KNN:  0.9004854368932039\n",
      "SVM:  0.9158576051779935\n",
      "Decision Tree:  0.8867313915857605\n",
      "Random Forest:  0.9053398058252428\n",
      "Naive Bayes:  0.8422330097087378\n"
     ]
    }
   ],
   "source": [
    "print(\"Logistic Regression: \", lr_score)\n",
    "print(\"KNN: \", knn_score )\n",
    "print(\"SVM: \", svm_score)\n",
    "print(\"Decision Tree: \", dt_score)\n",
    "print(\"Random Forest: \", rf_score)\n",
    "print(\"Naive Bayes: \", nb_score)"
   ]
  },
  {
   "cell_type": "markdown",
   "id": "00f471da",
   "metadata": {},
   "source": [
    "# 4. Best Algorithm"
   ]
  },
  {
   "cell_type": "markdown",
   "id": "e5962650",
   "metadata": {},
   "source": [
    "Berdasarkan percobaan keenam jenis algoritma diatas, algoritma yang paling bagus menurut saya adalah LogisticRegression. Hal ini dikarenakan nilai akurasi yang dihasilkan cukup tinggi dibandingkan yang lain yaitu sebesar 0.916406520985085 dan model yang dibangun tidak tergolong overfitting, selisih yang dihasilkan antara nilai data training dan data testing tidak begitu jauh, yaitu berkisar 0.002. "
   ]
  }
 ],
 "metadata": {
  "kernelspec": {
   "display_name": "Python 3 (ipykernel)",
   "language": "python",
   "name": "python3"
  },
  "language_info": {
   "codemirror_mode": {
    "name": "ipython",
    "version": 3
   },
   "file_extension": ".py",
   "mimetype": "text/x-python",
   "name": "python",
   "nbconvert_exporter": "python",
   "pygments_lexer": "ipython3",
   "version": "3.9.12"
  }
 },
 "nbformat": 4,
 "nbformat_minor": 5
}
